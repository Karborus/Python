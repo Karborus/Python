{
 "cells": [
  {
   "cell_type": "markdown",
   "id": "d5ed5836",
   "metadata": {},
   "source": [
    "# Chapter 1 Ex.\n",
    "\n",
    "Problems 1, 3, 5"
   ]
  },
  {
   "cell_type": "markdown",
   "id": "a5362137",
   "metadata": {},
   "source": [
    "## Ex. 1"
   ]
  }
 ],
 "metadata": {
  "kernelspec": {
   "display_name": "Python 3 (ipykernel)",
   "language": "python",
   "name": "python3"
  },
  "language_info": {
   "codemirror_mode": {
    "name": "ipython",
    "version": 3
   },
   "file_extension": ".py",
   "mimetype": "text/x-python",
   "name": "python",
   "nbconvert_exporter": "python",
   "pygments_lexer": "ipython3",
   "version": "3.11.5"
  }
 },
 "nbformat": 4,
 "nbformat_minor": 5
}
