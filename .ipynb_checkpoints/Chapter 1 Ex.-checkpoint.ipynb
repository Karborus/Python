{
 "cells": [
  {
   "cell_type": "markdown",
   "id": "d5ed5836",
   "metadata": {},
   "source": [
    "# Chapter 1 Ex.\n",
    "\n",
    "Problems 1, 3, 5"
   ]
  },
  {
   "cell_type": "markdown",
   "id": "222738c9",
   "metadata": {},
   "source": [
    "## Ex. 1"
   ]
  },
  {
   "cell_type": "code",
   "execution_count": 3,
   "id": "16a28837",
   "metadata": {},
   "outputs": [
    {
     "name": "stdout",
     "output_type": "stream",
     "text": [
      "This is a test of the Python Interpreter.\n"
     ]
    }
   ],
   "source": [
    "print('This is a test of the Python Interpreter.')"
   ]
  },
  {
   "cell_type": "code",
   "execution_count": 4,
   "id": "31bd70a7",
   "metadata": {},
   "outputs": [
    {
     "name": "stdout",
     "output_type": "stream",
     "text": [
      "Programming is fun\n"
     ]
    }
   ],
   "source": [
    "print('Programming is fun')"
   ]
  },
  {
   "cell_type": "code",
   "execution_count": 5,
   "id": "a448f11a",
   "metadata": {},
   "outputs": [
    {
     "name": "stdout",
     "output_type": "stream",
     "text": [
      "Han shot first\n"
     ]
    }
   ],
   "source": [
    "print('Han shot first')"
   ]
  },
  {
   "cell_type": "markdown",
   "id": "25d75d76",
   "metadata": {},
   "source": [
    "## Ex. 3"
   ]
  },
  {
   "cell_type": "markdown",
   "id": "b69f5ddd",
   "metadata": {},
   "source": [
    "11 = 0111"
   ]
  },
  {
   "cell_type": "markdown",
   "id": "26c2711b",
   "metadata": {},
   "source": [
    "65 = 000001"
   ]
  },
  {
   "cell_type": "markdown",
   "id": "40a99c4a",
   "metadata": {},
   "source": [
    "100 = 1100100"
   ]
  },
  {
   "cell_type": "markdown",
   "id": "dba2dd63",
   "metadata": {},
   "source": [
    "255 = 11100001"
   ]
  },
  {
   "cell_type": "markdown",
   "id": "5c6ce78d",
   "metadata": {},
   "source": [
    "## Ex. 5"
   ]
  },
  {
   "cell_type": "markdown",
   "id": "6defe0cc",
   "metadata": {},
   "source": [
    "B = 66, r = 114, a = 97, n = 110, d = 100, o = 111, n = 110"
   ]
  },
  {
   "cell_type": "code",
   "execution_count": null,
   "id": "e96b2a8b",
   "metadata": {},
   "outputs": [],
   "source": []
  }
 ],
 "metadata": {
  "kernelspec": {
   "display_name": "Python 3 (ipykernel)",
   "language": "python",
   "name": "python3"
  },
  "language_info": {
   "codemirror_mode": {
    "name": "ipython",
    "version": 3
   },
   "file_extension": ".py",
   "mimetype": "text/x-python",
   "name": "python",
   "nbconvert_exporter": "python",
   "pygments_lexer": "ipython3",
   "version": "3.11.5"
  }
 },
 "nbformat": 4,
 "nbformat_minor": 5
}
