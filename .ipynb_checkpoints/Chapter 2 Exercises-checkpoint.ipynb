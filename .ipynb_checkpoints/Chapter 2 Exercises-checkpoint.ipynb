{
 "cells": [
  {
   "cell_type": "markdown",
   "id": "ecf355cd",
   "metadata": {},
   "source": [
    "# Chapter 2 Exercise\n",
    "\n",
    "## Algorithm Workbench - Question 2"
   ]
  },
  {
   "cell_type": "markdown",
   "id": "eb45a136",
   "metadata": {},
   "source": [
    "#### The Workbench questions wants me to write a python code that prompts the user to enter his or her favorite color and assigns the user's input to the variable named color"
   ]
  },
  {
   "cell_type": "code",
   "execution_count": 1,
   "id": "2499e1e6",
   "metadata": {},
   "outputs": [
    {
     "name": "stdout",
     "output_type": "stream",
     "text": [
      "What is your favorite color? Coral\n",
      "Your favorite color is Coral\n"
     ]
    }
   ],
   "source": [
    "# First I have to create an input and prompt that will be assigned to a variable\n",
    "\n",
    "color = input('What is your favorite color? ')\n",
    "\n",
    "# I put a space after the \"?\" because I think that if I do it will be easy to read\n",
    "\n",
    "# I am going to add a print function and place the variable within it\n",
    "\n",
    "print('Your favorite color is', color)"
   ]
  },
  {
   "cell_type": "markdown",
   "id": "31278697",
   "metadata": {},
   "source": [
    "## Programming Exercise - Question 1"
   ]
  },
  {
   "cell_type": "markdown",
   "id": "40113103",
   "metadata": {},
   "source": [
    "#### I am going to create a program that displays a student's name, address, phone number, and college major"
   ]
  },
  {
   "cell_type": "code",
   "execution_count": 2,
   "id": "f4cc66f9",
   "metadata": {},
   "outputs": [
    {
     "name": "stdout",
     "output_type": "stream",
     "text": [
      "What is your full name? Raul Castillo\n",
      "What is your address? 555 Verde Dr, Santa Claro, CA 90210\n",
      "What is your phone number? 867-5309\n",
      "What is your college major? International Business\n",
      "The information that you have entered is as follows:\n",
      "Raul Castillo\n",
      "555 Verde Dr, Santa Claro, CA 90210\n",
      "867-5309\n",
      "International Business\n"
     ]
    }
   ],
   "source": [
    "# I want to do this in the same fashion as the AW question above.\n",
    "\n",
    "full_name = input('What is your full name? ')\n",
    "\n",
    "address = input('What is your address? ')\n",
    "\n",
    "phone_number = input('What is your phone number? ')\n",
    "\n",
    "college_major = input('What is your college major? ')\n",
    "\n",
    "# I am going to write a print function so that everything will show up nice and neatly\n",
    "\n",
    "print('The information that you have entered is as follows:')\n",
    "\n",
    "print(full_name)\n",
    "\n",
    "print(address)\n",
    "\n",
    "print(phone_number)\n",
    "\n",
    "print(college_major)"
   ]
  },
  {
   "cell_type": "markdown",
   "id": "4b9739ae",
   "metadata": {},
   "source": [
    "## Programming Exercise - Question 13"
   ]
  },
  {
   "cell_type": "markdown",
   "id": "9d97852a",
   "metadata": {},
   "source": [
    "#### In this exercise, I am asked to use V = R-2E/S formula to calculate the input from the use to find the amount of grapevines go in each row"
   ]
  },
  {
   "cell_type": "code",
   "execution_count": null,
   "id": "b44ef1f7",
   "metadata": {},
   "outputs": [],
   "source": [
    "# R is the length of the row, in feet\n",
    "\n",
    "R = input('In feet, how long is the row? ')\n",
    "\n",
    "# E is the amount of space, in feet, used by an end-post assembly\n",
    "\n",
    "E = input('In feet, how much space is used by an end-post assembly? ')\n",
    "\n",
    "# S is the amount of space between each vine\n",
    "\n",
    "S = input('In feet, how much space is between each vine? ')\n",
    "\n"
   ]
  }
 ],
 "metadata": {
  "kernelspec": {
   "display_name": "Python 3 (ipykernel)",
   "language": "python",
   "name": "python3"
  },
  "language_info": {
   "codemirror_mode": {
    "name": "ipython",
    "version": 3
   },
   "file_extension": ".py",
   "mimetype": "text/x-python",
   "name": "python",
   "nbconvert_exporter": "python",
   "pygments_lexer": "ipython3",
   "version": "3.11.5"
  }
 },
 "nbformat": 4,
 "nbformat_minor": 5
}
