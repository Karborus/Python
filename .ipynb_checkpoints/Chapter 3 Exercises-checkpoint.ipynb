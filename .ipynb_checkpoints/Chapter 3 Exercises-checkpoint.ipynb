{
 "cells": [
  {
   "cell_type": "markdown",
   "id": "ac5d0fda",
   "metadata": {},
   "source": [
    "## Chapter 3 AW Question #4"
   ]
  },
  {
   "cell_type": "markdown",
   "id": "4cf8b034",
   "metadata": {},
   "source": [
    "#### The following code has several nested if-else statements and it was written without the proper alignment and indentation\n",
    "#### We are asked to fix the code"
   ]
  },
  {
   "cell_type": "code",
   "execution_count": null,
   "id": "eea2b453",
   "metadata": {},
   "outputs": [],
   "source": [
    "if score >= A_score:\n",
    "print('Your grade is A.')\n",
    "else:\n",
    "if score >= B_score:\n",
    "print('Your grade is B.')\n",
    "else:\n",
    "if score >= C_score:\n",
    "print('Your grade is C.')\n",
    "else:\n",
    "if score >= D_score:\n",
    "print('Your grade is D.')\n",
    "else:\n",
    "print('Your grade is F')\n",
    "\n",
    "##### I did notice that when I typed out the incorrect code. Jupyter Notebook \n",
    "##### was trying to auto correct my code"
   ]
  },
  {
   "cell_type": "code",
   "execution_count": null,
   "id": "d1811183",
   "metadata": {},
   "outputs": [],
   "source": [
    "if score >= A_score:\n",
    "    print('Your grade is A.')\n",
    "else:\n",
    "    if score >= B_score:\n",
    "        print('Your grade is B.')\n",
    "else:\n",
    "    if score >= C_score:\n",
    "        print('Your grade is C.')\n",
    "else:\n",
    "    if score >= D_score:\n",
    "        print('Your grade is D.')\n",
    "else:\n",
    "    print('Your grade is F.')\n",
    "    \n",
    "#### I realized that no matter what, every line wanted to indent itself. \n",
    "#### I found that if you are not paying, your indentation can get very confusing."
   ]
  },
  {
   "cell_type": "code",
   "execution_count": null,
   "id": "28eefbc4",
   "metadata": {},
   "outputs": [],
   "source": []
  }
 ],
 "metadata": {
  "kernelspec": {
   "display_name": "Python 3 (ipykernel)",
   "language": "python",
   "name": "python3"
  },
  "language_info": {
   "codemirror_mode": {
    "name": "ipython",
    "version": 3
   },
   "file_extension": ".py",
   "mimetype": "text/x-python",
   "name": "python",
   "nbconvert_exporter": "python",
   "pygments_lexer": "ipython3",
   "version": "3.11.5"
  }
 },
 "nbformat": 4,
 "nbformat_minor": 5
}
