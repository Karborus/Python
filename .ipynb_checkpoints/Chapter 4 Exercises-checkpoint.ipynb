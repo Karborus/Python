{
 "cells": [
  {
   "cell_type": "markdown",
   "id": "377f1975",
   "metadata": {},
   "source": [
    "## Chapter 4 AW Question #1\n",
    "\n",
    "#### Write a loop that lets the user enter a number. The number should be multiplied by 10, and the result assigned to a variable named Product. The loop should iterate as long as  is less than 100."
   ]
  },
  {
   "cell_type": "code",
   "execution_count": 1,
   "id": "f4f35dde",
   "metadata": {},
   "outputs": [
    {
     "name": "stdout",
     "output_type": "stream",
     "text": [
      "Enter the number of packages: 4\n",
      "Our total in stock:  40\n",
      "Enter the number of packages: 10\n",
      "Our total in stock:  100\n",
      "We do not have enough in stock to fullfill your order.\n"
     ]
    }
   ],
   "source": [
    "#### We need to set a baseline for the variable Product\n",
    "product = 1\n",
    "\n",
    "#### Now we will have to create our while loop condition\n",
    "while product < 100:\n",
    "\n",
    "#### Now will we will be creating a variable for an input. \n",
    "#### Let's call it \"packages\"\n",
    "    packages = int(input('Enter the number of packages: '))\n",
    "    \n",
    "#### Now we will create the formula needed to multiple packages by 10\n",
    "    product = packages * 10\n",
    "    \n",
    "#### Now we will set up the print function\n",
    "    print('Our total in stock: ',product)\n",
    "\n",
    "#### Let's create the failure print function message\n",
    "print('We do not have enough in stock to fullfill your order.')\n",
    "\n",
    "#### Now we will test run the program."
   ]
  },
  {
   "cell_type": "markdown",
   "id": "cd05ea26",
   "metadata": {},
   "source": [
    "## Chapter 4 AW Question #3\n",
    "\n",
    "#### Write a for loop that displays the following set of numbers: 0, 10 , 20, 30, 40, .....1000"
   ]
  },
  {
   "cell_type": "code",
   "execution_count": 3,
   "id": "897ea3a6",
   "metadata": {},
   "outputs": [
    {
     "name": "stdout",
     "output_type": "stream",
     "text": [
      "0\n",
      "10\n",
      "20\n",
      "30\n",
      "40\n",
      "50\n",
      "60\n",
      "70\n",
      "80\n",
      "90\n",
      "100\n",
      "110\n",
      "120\n",
      "130\n",
      "140\n",
      "150\n",
      "160\n",
      "170\n",
      "180\n",
      "190\n",
      "200\n",
      "210\n",
      "220\n",
      "230\n",
      "240\n",
      "250\n",
      "260\n",
      "270\n",
      "280\n",
      "290\n",
      "300\n",
      "310\n",
      "320\n",
      "330\n",
      "340\n",
      "350\n",
      "360\n",
      "370\n",
      "380\n",
      "390\n",
      "400\n",
      "410\n",
      "420\n",
      "430\n",
      "440\n",
      "450\n",
      "460\n",
      "470\n",
      "480\n",
      "490\n",
      "500\n",
      "510\n",
      "520\n",
      "530\n",
      "540\n",
      "550\n",
      "560\n",
      "570\n",
      "580\n",
      "590\n",
      "600\n",
      "610\n",
      "620\n",
      "630\n",
      "640\n",
      "650\n",
      "660\n",
      "670\n",
      "680\n",
      "690\n",
      "700\n",
      "710\n",
      "720\n",
      "730\n",
      "740\n",
      "750\n",
      "760\n",
      "770\n",
      "780\n",
      "790\n",
      "800\n",
      "810\n",
      "820\n",
      "830\n",
      "840\n",
      "850\n",
      "860\n",
      "870\n",
      "880\n",
      "890\n",
      "900\n",
      "910\n",
      "920\n",
      "930\n",
      "940\n",
      "950\n",
      "960\n",
      "970\n",
      "980\n",
      "990\n",
      "1000\n"
     ]
    }
   ],
   "source": [
    "#### First we need to set an initial variable \n",
    "\n",
    "num = 0\n",
    "\n",
    "####  Now we will need to a For Loop\n",
    "for num in range(0, 1001, 10):\n",
    "\n",
    "#### now we will need a print function\n",
    "    print(num)\n",
    "    \n",
    "#### first test run gave us a syntax error regarding a missing :"
   ]
  },
  {
   "cell_type": "markdown",
   "id": "4c835cea",
   "metadata": {},
   "source": [
    "## Chapter 4 PE Question #1\n",
    "\n",
    "#### A bug collector collects bugs every day for five days. Write a program that keeps a running total of the number of bugs collected during the five days. The loop should ask for the number of bugs collected for each day, and when the loop is finished, the program should display the total number of bugs collected."
   ]
  },
  {
   "cell_type": "code",
   "execution_count": 9,
   "id": "4fe8152f",
   "metadata": {},
   "outputs": [
    {
     "name": "stdout",
     "output_type": "stream",
     "text": [
      "Enter the number of bugs collected on the current day:5\n",
      "Enter the number of bugs collected on the current day:100\n",
      "Enter the number of bugs collected on the current day:55\n",
      "Enter the number of bugs collected on the current day:34\n",
      "Enter the number of bugs collected on the current day:77\n",
      "The total number of bugs collected in 5 days is:  271\n"
     ]
    }
   ],
   "source": [
    "#### First in this exercise we will have to set a bug count to 0\n",
    "total = 0\n",
    "\n",
    "#### Now We will be creating a For Loop to set a range\n",
    "for day in range(1, 6):\n",
    "#### the second number is 6 so that the program will include day 5 and stop at 6\n",
    "\n",
    "#### now we will create the input statement for the current day\n",
    "    bugs = int(input('Enter the number of bugs collected on the current day:'))\n",
    "    \n",
    "#### Now we need a formula to add each day\n",
    "    total += bugs\n",
    "\n",
    "#### Now we need the print statement to tally up the total\n",
    "print('The total number of bugs collected in 5 days is: ', total)\n",
    "\n",
    "#### Now we will test run the program\n",
    "#### First run ended in syntax error for missing :\n",
    "#### I had to take out my attempt to display the current day number in order\n",
    "#### get the program to work without an error."
   ]
  },
  {
   "cell_type": "markdown",
   "id": "ea40d20d",
   "metadata": {},
   "source": [
    "## Chapter 4 PE Question #4\n",
    "\n",
    "#### The distance a vehicle travels can be calculated as follows: Distance = Speed X Time. For example, if a train travels 40 miles per hour for three hours, the distance traveled is 120 miles. Write a program that asks the user for the speed of a vehicle (in miles per hour) and the number of hours it has traveled. It should then use a loop to display the distance the vehicle has traveled for each hour of that time period."
   ]
  },
  {
   "cell_type": "code",
   "execution_count": 23,
   "id": "995434e9",
   "metadata": {},
   "outputs": [
    {
     "name": "stdout",
     "output_type": "stream",
     "text": [
      "How many hours did you travel?: 8\n",
      "How fast was your vehicle going?: 30\n",
      "Hours\tDistance Traveled\n",
      "------------------------\n",
      "1\t30\n",
      "2\t60\n",
      "3\t90\n",
      "4\t120\n",
      "5\t150\n",
      "6\t180\n",
      "7\t210\n",
      "8\t240\n"
     ]
    }
   ],
   "source": [
    "#### First we need to create input statements to get the information\n",
    "#### from the user and assign them to variables\n",
    "time = int(input('How many hours did you travel?: '))\n",
    "speed = int(input('How fast was your vehicle going?: '))\n",
    "\n",
    "\n",
    "#### Now we will need to print the table headings\n",
    "print('Hours\\tDistance Traveled')\n",
    "print('------------------------')\n",
    "\n",
    "#### Now need a for loop to show how far was traveled each hour of the trip\n",
    "for time in range(1,time +1):\n",
    "\n",
    "#### Now we need the formula\n",
    "    distance = time * speed\n",
    "    print(f'{time}\\t{distance}')\n",
    "    \n",
    "#### once again I forgot to input a :\n",
    "#### i realized that the formula needed to be with the for loop"
   ]
  },
  {
   "cell_type": "markdown",
   "id": "b2466abc",
   "metadata": {},
   "source": [
    "## Chapter 4 PE Question #11\n",
    "\n",
    "#### In mathematics, the notation n! represents the factorial of the nonnegative integer n. The factorial of n is the product of all the nonnegative integers from 1 to n. Write a program that lets the user enter a nonnegative integer then uses a loop to calculate the factorial of that number. Display the factorial."
   ]
  },
  {
   "cell_type": "code",
   "execution_count": 2,
   "id": "662e07a0",
   "metadata": {},
   "outputs": [
    {
     "name": "stdout",
     "output_type": "stream",
     "text": [
      "Let us find out a factorial of a number!\n",
      "Please input a nonnegative integer: 6\n",
      "6 ! = 720\n"
     ]
    }
   ],
   "source": [
    "#### first I am going to set a variable for num\n",
    "num = -1\n",
    "\n",
    "#### I chose -1 so that the while loop i will make next will stop\n",
    "#### after one iteration\n",
    "\n",
    "while num < 0:\n",
    "    print('Let us find out a factorial of a number!')\n",
    "    num = int(input('Please input a nonnegative integer: '))\n",
    "    \n",
    "#### Now I will set up a variable to a factorial (f)\n",
    "f = 1\n",
    "\n",
    "#### now I am setting a for loop\n",
    "for r in range(1, num+1):\n",
    "    f = f*r\n",
    "\n",
    "print(num,'! =', f)"
   ]
  },
  {
   "attachments": {
    "image.png": {
     "image/png": "[encoded data removed]"
    }
   },
   "cell_type": "markdown",
   "id": "3f642484",
   "metadata": {},
   "source": [
    "## Chapter 4 PE Question #14\n",
    "\n",
    "#### Write a program that uses nested loops to draw this pattern: \n",
    "![image.png](attachment:image.png)"
   ]
  },
  {
   "cell_type": "code",
   "execution_count": 42,
   "id": "c2e7152f",
   "metadata": {},
   "outputs": [
    {
     "name": "stdout",
     "output_type": "stream",
     "text": [
      "##\n",
      "# #\n",
      "#  #\n",
      "#   #\n",
      "#    #\n",
      "#     #\n"
     ]
    }
   ],
   "source": [
    "#### First is to set up for loop\n",
    "for i in range(6):\n",
    "#### mulitpling an actual space by the range    \n",
    "    spaces = ' '*i\n",
    "#### Print function to add spaces into the pattern\n",
    "    print(f'#{spaces}#')\n",
    "\n",
    "#### I went throw many failed codes and then realized that \n",
    "#### I was focusing on the # and not the spaces"
   ]
  },
  {
   "cell_type": "code",
   "execution_count": null,
   "id": "526b231a",
   "metadata": {},
   "outputs": [],
   "source": []
  }
 ],
 "metadata": {
  "kernelspec": {
   "display_name": "Python 3 (ipykernel)",
   "language": "python",
   "name": "python3"
  },
  "language_info": {
   "codemirror_mode": {
    "name": "ipython",
    "version": 3
   },
   "file_extension": ".py",
   "mimetype": "text/x-python",
   "name": "python",
   "nbconvert_exporter": "python",
   "pygments_lexer": "ipython3",
   "version": "3.11.5"
  }
 },
 "nbformat": 4,
 "nbformat_minor": 5
}
