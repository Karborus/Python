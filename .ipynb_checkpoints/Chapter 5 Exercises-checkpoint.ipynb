{
 "cells": [
  {
   "cell_type": "markdown",
   "id": "596bc852",
   "metadata": {},
   "source": [
    "## Chapter 5 AW #1\n",
    "\n",
    "#### Write a function named times_ten. The function should accept an argument and display the product of its argument multiplied times 10."
   ]
  },
  {
   "cell_type": "code",
   "execution_count": 2,
   "id": "67d1611d",
   "metadata": {},
   "outputs": [
    {
     "name": "stdout",
     "output_type": "stream",
     "text": [
      "100\n"
     ]
    }
   ],
   "source": [
    "# define the function\n",
    "def times_ten(number=10):\n",
    "    # set up the product times ten\n",
    "    product = number * 10\n",
    "    # add the print statement\n",
    "    print(product)\n",
    "# call the function\n",
    "times_ten()"
   ]
  },
  {
   "cell_type": "markdown",
   "id": "8cadf2c2",
   "metadata": {},
   "source": [
    "## Chapter 5 AW #2\n",
    "\n",
    "#### Examine the following function header, then write a statement that calls the function, passing 12 as an argument. \n",
    "#### def show_value(quantity):"
   ]
  },
  {
   "cell_type": "code",
   "execution_count": 3,
   "id": "470a8d44",
   "metadata": {},
   "outputs": [
    {
     "name": "stdout",
     "output_type": "stream",
     "text": [
      "12\n"
     ]
    }
   ],
   "source": [
    "# this will demonstrate passing 12 as an argument\n",
    "\n",
    "def main():\n",
    "    value = 12\n",
    "    show_value(value)\n",
    "# show_value function will accept agrument    \n",
    "def show_value(quantity):\n",
    "    print(quantity)\n",
    "# Now we need to call the main function\n",
    "main()"
   ]
  },
  {
   "cell_type": "markdown",
   "id": "960b7e9d",
   "metadata": {},
   "source": [
    "## Chapter 5 PE #1\n",
    "\n",
    "#### Write a program that asks the user to enter a distance in kilometers, then uses a function to convert that distance to miles. The conversion formula is as follows:\n",
    "#### Miles= Kilometers X 0.6214"
   ]
  },
  {
   "cell_type": "code",
   "execution_count": 2,
   "id": "62b2db7d",
   "metadata": {},
   "outputs": [
    {
     "name": "stdout",
     "output_type": "stream",
     "text": [
      "Please enter a distance in kilometers: 200\n",
      "200.0 kilometers is equal to 124.27999999999999 miles.\n"
     ]
    }
   ],
   "source": [
    "#### First we need a constant global variable\n",
    "conversion_factor = 0.6214\n",
    "#### this will be able to be used anywhere in the program\n",
    "\n",
    "#### Now we will set up the main function\n",
    "def main():\n",
    "    #### Input statement to get user to input data\n",
    "    kilometers = float(input('Please enter a distance in kilometers: '))\n",
    "    \n",
    "    #### this will be were need the conversion displayed\n",
    "    show_miles(kilometers)\n",
    "    \n",
    "#### Now we have to set up the function the utilize the formula\n",
    "def show_miles(km):\n",
    "    #### Now we will input the formula here\n",
    "    miles = km * conversion_factor\n",
    "    \n",
    "    #### This will display the miles\n",
    "    print(km, 'kilometers is equal to', miles, 'miles.')\n",
    "    \n",
    "#### this will call up the main function\n",
    "main()\n"
   ]
  },
  {
   "cell_type": "markdown",
   "id": "bbb80180",
   "metadata": {},
   "source": [
    "## Chapter 5 PE #16\n",
    "##### A prime number is a number that is only evenly divisible by itself and 1. For example, the number 5 is prime because it can only be evenly divided by 1 and 5. The number 6, however, is not prime because it can be divided evenly by 1, 2, 3, and 6.\n",
    "#### Write a Boolean function named is_prime which takes an integer as an argument and returns true if the argument is a prime number, or false otherwise. Use the function in a program that prompts the user to enter a number then displays a message indicating whether the number is prime."
   ]
  },
  {
   "cell_type": "code",
   "execution_count": 119,
   "id": "ee90721a",
   "metadata": {},
   "outputs": [],
   "source": [
    "#### Need to have a main function\n",
    "def main():\n",
    "    number = int(input('Enter an integer to see if it is a prime number: '))\n",
    "    if is_prime(number):\n",
    "        print('Can we call you Optimus Prime!?')\n",
    "    else:\n",
    "        print('Oh no this is not a prime number')\n",
    "\n",
    "\n",
    "#### set up for the is_prime function\n",
    "def is_prime(number):\n",
    "    #### This is so we can set up a statement to tell us if number go into the input data\n",
    "    #### evenly telling us that it is not a prime number\n",
    "    for i in range(2, number):\n",
    "        if number % i == 0:\n",
    "            return False\n",
    "    \n",
    "    #### This print statement will let the user know that htye have found a prime number\n",
    "    return True\n",
    "    \n",
    "        "
   ]
  },
  {
   "cell_type": "code",
   "execution_count": 56,
   "id": "0e0c27a9",
   "metadata": {},
   "outputs": [
    {
     "name": "stdout",
     "output_type": "stream",
     "text": [
      "Enter an integer to see if it is a prime number: 97\n",
      "Can we call you Optimus Prime!?\n"
     ]
    }
   ],
   "source": [
    "#### this will call the program\n",
    "main()"
   ]
  },
  {
   "cell_type": "code",
   "execution_count": 120,
   "id": "5f90df57",
   "metadata": {},
   "outputs": [
    {
     "name": "stdout",
     "output_type": "stream",
     "text": [
      "Enter an integer to see if it is a prime number: 11\n",
      "Can we call you Optimus Prime!?\n"
     ]
    }
   ],
   "source": [
    "main()"
   ]
  },
  {
   "cell_type": "markdown",
   "id": "c2ec434d",
   "metadata": {},
   "source": [
    "## Chapter 5 PE #17\n",
    "#### This exercise assumes that you have already written the is_prime function in Programming Exercise 16. Write another program that displays all of the prime numbers from 1 to 100. The program should have a loop that calls the is_prime function."
   ]
  },
  {
   "cell_type": "code",
   "execution_count": 57,
   "id": "78f550c5",
   "metadata": {},
   "outputs": [],
   "source": [
    "#### here we imported the is_prime function\n",
    "def is_prime(number):\n",
    "    #### This is so we can set up a statement to tell us if number go into the input data\n",
    "    #### evenly telling us that it is not a prime number\n",
    "    for i in range(2, number):\n",
    "        if number % i == 0:\n",
    "            return False\n",
    "    \n",
    "    #### This print statement will let the user know that htye have found a prime number\n",
    "    return True\n",
    "\n",
    "#### We are going to create a new main function\n",
    "def main():\n",
    "    for current_number in range(1, 101): # This will set the range 1- 100\n",
    "        if is_prime(current_number): # This will test the is_prime function\n",
    "            print(current_number, end=' ') # the will print the current_number with a space separater\n",
    "        "
   ]
  },
  {
   "cell_type": "code",
   "execution_count": 58,
   "id": "42979ce7",
   "metadata": {},
   "outputs": [
    {
     "name": "stdout",
     "output_type": "stream",
     "text": [
      "1 2 3 5 7 11 13 17 19 23 29 31 37 41 43 47 53 59 61 67 71 73 79 83 89 97 "
     ]
    }
   ],
   "source": [
    "main()"
   ]
  },
  {
   "cell_type": "markdown",
   "id": "80e3237d",
   "metadata": {},
   "source": [
    "## Chapter 5 PE #12\n",
    "#### When an object is falling because of gravity, the following formula can be used to determine the distance the object falls in a specific time period:\n",
    "#### d = 0.5 * g * t^2\n",
    "#### The variables in the formula are as follows: d is the distance in meters, g is 9.8, and t is the amount of time, in seconds, that the object has been falling.\n",
    "#### Write a function named falling_distance that accepts an object’s falling time (in seconds) as an argument. The function should return the distance, in meters, that the object has fallen during that time interval. Write a program that calls the function in a loop that passes the values 1 through 10 as arguments and displays the return value."
   ]
  },
  {
   "cell_type": "code",
   "execution_count": 116,
   "id": "ea4e0631",
   "metadata": {},
   "outputs": [],
   "source": [
    "#### first lets set the g value as a global variable\n",
    "g = 9.8\n",
    "\n",
    "#### defining the falling_distance function\n",
    "def falling_distance():\n",
    "    for t in range(1,11):\n",
    "        d = 0.5 * g * t**2 # this is the equation given\n",
    "        print('An object falling for', t, f'seconds will travel {d:.2f} meters')\n",
    "        # this will print out number with 2 decimal places"
   ]
  },
  {
   "cell_type": "code",
   "execution_count": 117,
   "id": "c61e08b2",
   "metadata": {},
   "outputs": [
    {
     "name": "stdout",
     "output_type": "stream",
     "text": [
      "An object falling for 1 seconds will travel 4.90 meters\n",
      "An object falling for 2 seconds will travel 19.60 meters\n",
      "An object falling for 3 seconds will travel 44.10 meters\n",
      "An object falling for 4 seconds will travel 78.40 meters\n",
      "An object falling for 5 seconds will travel 122.50 meters\n",
      "An object falling for 6 seconds will travel 176.40 meters\n",
      "An object falling for 7 seconds will travel 240.10 meters\n",
      "An object falling for 8 seconds will travel 313.60 meters\n",
      "An object falling for 9 seconds will travel 396.90 meters\n",
      "An object falling for 10 seconds will travel 490.00 meters\n"
     ]
    }
   ],
   "source": [
    "falling_distance()"
   ]
  },
  {
   "cell_type": "code",
   "execution_count": null,
   "id": "8df07e0c",
   "metadata": {},
   "outputs": [],
   "source": []
  }
 ],
 "metadata": {
  "kernelspec": {
   "display_name": "Python 3 (ipykernel)",
   "language": "python",
   "name": "python3"
  },
  "language_info": {
   "codemirror_mode": {
    "name": "ipython",
    "version": 3
   },
   "file_extension": ".py",
   "mimetype": "text/x-python",
   "name": "python",
   "nbconvert_exporter": "python",
   "pygments_lexer": "ipython3",
   "version": "3.11.5"
  }
 },
 "nbformat": 4,
 "nbformat_minor": 5
}
