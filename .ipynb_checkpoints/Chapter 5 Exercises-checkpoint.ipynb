{
 "cells": [
  {
   "cell_type": "markdown",
   "id": "596bc852",
   "metadata": {},
   "source": [
    "## Chapter 5 AW #1\n",
    "\n",
    "#### Write a function named times_ten. The function should accept an argument and display the product of its argument multiplied times 10."
   ]
  },
  {
   "cell_type": "code",
   "execution_count": 2,
   "id": "67d1611d",
   "metadata": {},
   "outputs": [
    {
     "name": "stdout",
     "output_type": "stream",
     "text": [
      "100\n"
     ]
    }
   ],
   "source": [
    "# define the function\n",
    "def times_ten(number=10):\n",
    "    # set up the product times ten\n",
    "    product = number * 10\n",
    "    # add the print statement\n",
    "    print(product)\n",
    "# call the function\n",
    "times_ten()"
   ]
  },
  {
   "cell_type": "markdown",
   "id": "8cadf2c2",
   "metadata": {},
   "source": [
    "## Chapter 5 AW #2\n",
    "\n",
    "#### Examine the following function header, then write a statement that calls the function, passing 12 as an argument. \n",
    "#### def show_value(quantity):"
   ]
  },
  {
   "cell_type": "code",
   "execution_count": 3,
   "id": "470a8d44",
   "metadata": {},
   "outputs": [
    {
     "name": "stdout",
     "output_type": "stream",
     "text": [
      "12\n"
     ]
    }
   ],
   "source": [
    "# this will demonstrate passing 12 as an argument\n",
    "\n",
    "def main():\n",
    "    value = 12\n",
    "    show_value(value)\n",
    "# show_value function will accept agrument    \n",
    "def show_value(quantity):\n",
    "    print(quantity)\n",
    "# Now we need to call the main function\n",
    "main()"
   ]
  },
  {
   "cell_type": "markdown",
   "id": "960b7e9d",
   "metadata": {},
   "source": [
    "## Chapter 5 PE #1\n",
    "\n",
    "#### Write a program that asks the user to enter a distance in kilometers, then uses a function to convert that distance to miles. The conversion formula is as follows:\n",
    "#### Miles= Kilometers X 0.6214"
   ]
  },
  {
   "cell_type": "code",
   "execution_count": 1,
   "id": "62b2db7d",
   "metadata": {},
   "outputs": [
    {
     "ename": "SyntaxError",
     "evalue": "invalid syntax (885190625.py, line 19)",
     "output_type": "error",
     "traceback": [
      "\u001b[1;36m  Cell \u001b[1;32mIn[1], line 19\u001b[1;36m\u001b[0m\n\u001b[1;33m    print(km 'kilometers is equal to', miles, 'miles.')\u001b[0m\n\u001b[1;37m             ^\u001b[0m\n\u001b[1;31mSyntaxError\u001b[0m\u001b[1;31m:\u001b[0m invalid syntax\n"
     ]
    }
   ],
   "source": [
    "#### First we need a constant global variable\n",
    "conversion_factor = 0.6214\n",
    "#### this will be able to be used anywhere in the program\n",
    "\n",
    "#### Now we will set up the main function\n",
    "def main():\n",
    "    #### Input statement to get user to input data\n",
    "    kilometers = float(input('Please enter a distance in kilometers: '))\n",
    "    \n",
    "    #### this will be were need the conversion displayed\n",
    "    show_miles(kilometers)\n",
    "    \n",
    "#### Now we have to set up the function the utilize the formula\n",
    "def show_miles(km):\n",
    "    #### Now we will input the formula here\n",
    "    miles = km * conversion_factor\n",
    "    \n",
    "    #### This will display the miles\n",
    "    print(km 'kilometers is equal to', miles, 'miles.')\n",
    "    \n",
    "#### this will call up the main function\n",
    "main()\n"
   ]
  },
  {
   "cell_type": "code",
   "execution_count": null,
   "id": "956be6a0",
   "metadata": {},
   "outputs": [],
   "source": []
  }
 ],
 "metadata": {
  "kernelspec": {
   "display_name": "Python 3 (ipykernel)",
   "language": "python",
   "name": "python3"
  },
  "language_info": {
   "codemirror_mode": {
    "name": "ipython",
    "version": 3
   },
   "file_extension": ".py",
   "mimetype": "text/x-python",
   "name": "python",
   "nbconvert_exporter": "python",
   "pygments_lexer": "ipython3",
   "version": "3.11.5"
  }
 },
 "nbformat": 4,
 "nbformat_minor": 5
}
