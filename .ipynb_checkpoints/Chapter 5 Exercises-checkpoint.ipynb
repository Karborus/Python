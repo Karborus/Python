{
 "cells": [
  {
   "cell_type": "markdown",
   "id": "596bc852",
   "metadata": {},
   "source": [
    "## Chapter 5 AW #1\n",
    "\n",
    "#### Write a function named times_ten. The function should accept an argument and display the product of its argument multiplied times 10."
   ]
  },
  {
   "cell_type": "code",
   "execution_count": 2,
   "id": "67d1611d",
   "metadata": {},
   "outputs": [
    {
     "name": "stdout",
     "output_type": "stream",
     "text": [
      "100\n"
     ]
    }
   ],
   "source": [
    "# define the function\n",
    "def times_ten(number=10):\n",
    "    # set up the product times ten\n",
    "    product = number * 10\n",
    "    # add the print statement\n",
    "    print(product)\n",
    "# call the function\n",
    "times_ten()"
   ]
  },
  {
   "cell_type": "markdown",
   "id": "8cadf2c2",
   "metadata": {},
   "source": [
    "## Chapter 5 AW #2\n",
    "\n",
    "#### Examine the following function header, then write a statement that calls the function, passing 12 as an argument. \n",
    "#### def show_value(quantity):"
   ]
  },
  {
   "cell_type": "code",
   "execution_count": 3,
   "id": "470a8d44",
   "metadata": {},
   "outputs": [
    {
     "name": "stdout",
     "output_type": "stream",
     "text": [
      "12\n"
     ]
    }
   ],
   "source": [
    "# this will demonstrate passing 12 as an argument\n",
    "\n",
    "def main():\n",
    "    value = 12\n",
    "    show_value(value)\n",
    "# show_value function will accept agrument    \n",
    "def show_value(quantity):\n",
    "    print(quantity)\n",
    "# Now we need to call the main function\n",
    "main()"
   ]
  },
  {
   "cell_type": "markdown",
   "id": "960b7e9d",
   "metadata": {},
   "source": [
    "## Chapter 5 PE #1\n",
    "\n",
    "#### Write a program that asks the user to enter a distance in kilometers, then uses a function to convert that distance to miles. The conversion formula is as follows:\n",
    "#### Miles= Kilometers X 0.6214"
   ]
  },
  {
   "cell_type": "code",
   "execution_count": 2,
   "id": "62b2db7d",
   "metadata": {},
   "outputs": [
    {
     "name": "stdout",
     "output_type": "stream",
     "text": [
      "Please enter a distance in kilometers: 200\n",
      "200.0 kilometers is equal to 124.27999999999999 miles.\n"
     ]
    }
   ],
   "source": [
    "#### First we need a constant global variable\n",
    "conversion_factor = 0.6214\n",
    "#### this will be able to be used anywhere in the program\n",
    "\n",
    "#### Now we will set up the main function\n",
    "def main():\n",
    "    #### Input statement to get user to input data\n",
    "    kilometers = float(input('Please enter a distance in kilometers: '))\n",
    "    \n",
    "    #### this will be were need the conversion displayed\n",
    "    show_miles(kilometers)\n",
    "    \n",
    "#### Now we have to set up the function the utilize the formula\n",
    "def show_miles(km):\n",
    "    #### Now we will input the formula here\n",
    "    miles = km * conversion_factor\n",
    "    \n",
    "    #### This will display the miles\n",
    "    print(km, 'kilometers is equal to', miles, 'miles.')\n",
    "    \n",
    "#### this will call up the main function\n",
    "main()\n"
   ]
  },
  {
   "cell_type": "markdown",
   "id": "331f775a",
   "metadata": {},
   "source": [
    "## Chapter 5 PE #16\n",
    "##### A prime number is a number that is only evenly divisible by itself and 1. For example, the number 5 is prime because it can only be evenly divided by 1 and 5. The number 6, however, is not prime because it can be divided evenly by 1, 2, 3, and 6.\n",
    "#### Write a Boolean function named is_prime which takes an integer as an argument and returns true if the argument is a prime number, or false otherwise. Use the function in a program that prompts the user to enter a number then displays a message indicating whether the number is prime."
   ]
  },
  {
   "cell_type": "code",
   "execution_count": 3,
   "id": "71b98aa6",
   "metadata": {},
   "outputs": [],
   "source": [
    "#### set up for the is_prime function\n",
    "def is_prime(number):\n",
    "    #### This is so we can set up a statement to tell us if number go into the input data\n",
    "    #### evenly telling us that it is not a prime number\n",
    "    for i in range(2, number):\n",
    "        if number % i == 0:\n",
    "            print('This is not a prime number!!!')\n",
    "    \n",
    "    #### This print statement will let the user know that htye have found a prime number\n",
    "    print('Can we call you Opitmus Prime!?!?!?')\n",
    "    \n",
    "        "
   ]
  },
  {
   "cell_type": "code",
   "execution_count": null,
   "id": "f685ba29",
   "metadata": {},
   "outputs": [],
   "source": []
  }
 ],
 "metadata": {
  "kernelspec": {
   "display_name": "Python 3 (ipykernel)",
   "language": "python",
   "name": "python3"
  },
  "language_info": {
   "codemirror_mode": {
    "name": "ipython",
    "version": 3
   },
   "file_extension": ".py",
   "mimetype": "text/x-python",
   "name": "python",
   "nbconvert_exporter": "python",
   "pygments_lexer": "ipython3",
   "version": "3.11.5"
  }
 },
 "nbformat": 4,
 "nbformat_minor": 5
}
