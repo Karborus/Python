{
 "cells": [
  {
   "cell_type": "markdown",
   "id": "3530f54c",
   "metadata": {},
   "source": [
    "## AW Question #1\n",
    "#### Write a statement that creates a list with the following strings:\n",
    "#### 'Einstein', 'Newton', 'Copernicus', and 'Kepler'."
   ]
  },
  {
   "cell_type": "code",
   "execution_count": 1,
   "id": "6030f4b5",
   "metadata": {},
   "outputs": [
    {
     "name": "stdout",
     "output_type": "stream",
     "text": [
      "['Einstein', 'Newton', 'Copernicus', 'Kepler']\n"
     ]
    }
   ],
   "source": [
    "#set up the list\n",
    "scientists = ['Einstein', 'Newton', 'Copernicus', 'Kepler']\n",
    "# use print function\n",
    "print(scientists)"
   ]
  },
  {
   "cell_type": "markdown",
   "id": "27bee145",
   "metadata": {},
   "source": [
    "## AW Question #3\n",
    "#### Assume the list numbers1 has 100 elements, and numbers2 is an empty list. Write code that copies the values in numbers1 to numbers2.\n",
    "\n"
   ]
  },
  {
   "cell_type": "code",
   "execution_count": 3,
   "id": "09d697ff",
   "metadata": {},
   "outputs": [
    {
     "name": "stdout",
     "output_type": "stream",
     "text": [
      "[0, 1, 2, 3, 4, 5, 6, 7, 8, 9, 10, 11, 12, 13, 14, 15, 16, 17, 18, 19, 20, 21, 22, 23, 24, 25, 26, 27, 28, 29, 30, 31, 32, 33, 34, 35, 36, 37, 38, 39, 40, 41, 42, 43, 44, 45, 46, 47, 48, 49, 50, 51, 52, 53, 54, 55, 56, 57, 58, 59, 60, 61, 62, 63, 64, 65, 66, 67, 68, 69, 70, 71, 72, 73, 74, 75, 76, 77, 78, 79, 80, 81, 82, 83, 84, 85, 86, 87, 88, 89, 90, 91, 92, 93, 94, 95, 96, 97, 98, 99]\n"
     ]
    }
   ],
   "source": [
    "# set up lists for both variables\n",
    "numbers1 = [n for n in range(100)]\n",
    "numbers2 = []\n",
    "# numbers2 needs to be an empty list\n",
    "\n",
    "# Verify numbers1 is correct\n",
    "print(numbers1)"
   ]
  },
  {
   "cell_type": "code",
   "execution_count": 4,
   "id": "8b836eef",
   "metadata": {},
   "outputs": [
    {
     "name": "stdout",
     "output_type": "stream",
     "text": [
      "[0, 1, 2, 3, 4, 5, 6, 7, 8, 9, 10, 11, 12, 13, 14, 15, 16, 17, 18, 19, 20, 21, 22, 23, 24, 25, 26, 27, 28, 29, 30, 31, 32, 33, 34, 35, 36, 37, 38, 39, 40, 41, 42, 43, 44, 45, 46, 47, 48, 49, 50, 51, 52, 53, 54, 55, 56, 57, 58, 59, 60, 61, 62, 63, 64, 65, 66, 67, 68, 69, 70, 71, 72, 73, 74, 75, 76, 77, 78, 79, 80, 81, 82, 83, 84, 85, 86, 87, 88, 89, 90, 91, 92, 93, 94, 95, 96, 97, 98, 99]\n"
     ]
    }
   ],
   "source": [
    "# append numbers2 with list from numbers1 with for string\n",
    "for num in numbers1:\n",
    "    numbers2.append(num)\n",
    "    # almost forgot the colon :-/\n",
    "\n",
    "# verify copy with print function\n",
    "print(numbers2)"
   ]
  },
  {
   "cell_type": "markdown",
   "id": "2aae5445",
   "metadata": {},
   "source": [
    "## PE Question #1\n",
    "#### Design a program that asks the user to enter a store’s sales for each day of the week. The amounts should be stored in a list. Use a loop to calculate the total sales for the week and display the result."
   ]
  },
  {
   "cell_type": "code",
   "execution_count": 5,
   "id": "c11ba325",
   "metadata": {},
   "outputs": [
    {
     "ename": "SyntaxError",
     "evalue": "unterminated string literal (detected at line 6) (1754323286.py, line 6)",
     "output_type": "error",
     "traceback": [
      "\u001b[1;36m  Cell \u001b[1;32mIn[5], line 6\u001b[1;36m\u001b[0m\n\u001b[1;33m    daily_sales = float(input(f'Enter the sale in dollars for {day}: ))\u001b[0m\n\u001b[1;37m                              ^\u001b[0m\n\u001b[1;31mSyntaxError\u001b[0m\u001b[1;31m:\u001b[0m unterminated string literal (detected at line 6)\n"
     ]
    }
   ],
   "source": [
    "# first we need to set up an empty list for the sales data\n",
    "sales = []\n",
    "\n",
    "# set up a loop for the daily sales input\n",
    "for day in ['Monday', 'Tuesday', 'Wednesday', 'Thursday', 'Friday', 'Saturday', 'Sunday']:\n",
    "    daily_sales = float(input(f'Enter the sale in dollars for {day}: ))\n",
    "    # append sales data for each input\n",
    "    sales.append(daily_sales)\n",
    "\n",
    "# Here we calculate the sum of the total sales\n",
    "total_sales = sum(sales)\n",
    "                              \n",
    "# Use print function to display total sales\n",
    "print(f'Total sales for the week are: ${total_sales})"
   ]
  },
  {
   "cell_type": "code",
   "execution_count": 6,
   "id": "bfb98ead",
   "metadata": {},
   "outputs": [
    {
     "name": "stdout",
     "output_type": "stream",
     "text": [
      "Enter the sale in dollars for Monday: 500\n",
      "Enter the sale in dollars for Tuesday: 200\n",
      "Enter the sale in dollars for Wednesday: 550\n",
      "Enter the sale in dollars for Thursday: 425\n",
      "Enter the sale in dollars for Friday: 600\n",
      "Enter the sale in dollars for Saturday: 700\n",
      "Enter the sale in dollars for Sunday: 900\n",
      "Total sales for the week are: $3875.0\n"
     ]
    }
   ],
   "source": [
    "# fixed syntax error\n",
    "# first we need to set up an empty list for the sales data\n",
    "sales = []\n",
    "\n",
    "# set up a loop for the daily sales input\n",
    "for day in ['Monday', 'Tuesday', 'Wednesday', 'Thursday', 'Friday', 'Saturday', 'Sunday']:\n",
    "    daily_sales = float(input(f'Enter the sale in dollars for {day}: '))\n",
    "    # append sales data for each input\n",
    "    sales.append(daily_sales)\n",
    "\n",
    "# Here we calculate the sum of the total sales\n",
    "total_sales = sum(sales)\n",
    "                              \n",
    "# Use print function to display total sales\n",
    "print(f'Total sales for the week are: ${total_sales}')"
   ]
  },
  {
   "cell_type": "code",
   "execution_count": null,
   "id": "ec09abc0",
   "metadata": {},
   "outputs": [],
   "source": []
  }
 ],
 "metadata": {
  "kernelspec": {
   "display_name": "Python 3 (ipykernel)",
   "language": "python",
   "name": "python3"
  },
  "language_info": {
   "codemirror_mode": {
    "name": "ipython",
    "version": 3
   },
   "file_extension": ".py",
   "mimetype": "text/x-python",
   "name": "python",
   "nbconvert_exporter": "python",
   "pygments_lexer": "ipython3",
   "version": "3.11.5"
  }
 },
 "nbformat": 4,
 "nbformat_minor": 5
}
