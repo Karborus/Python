{
 "cells": [
  {
   "cell_type": "markdown",
   "id": "3530f54c",
   "metadata": {},
   "source": [
    "## AW Question #1\n",
    "#### Write a statement that creates a list with the following strings:\n",
    "#### 'Einstein', 'Newton', 'Copernicus', and 'Kepler'."
   ]
  },
  {
   "cell_type": "code",
   "execution_count": 1,
   "id": "6030f4b5",
   "metadata": {},
   "outputs": [
    {
     "name": "stdout",
     "output_type": "stream",
     "text": [
      "['Einstein', 'Newton', 'Copernicus', 'Kepler']\n"
     ]
    }
   ],
   "source": [
    "#set up the list\n",
    "scientists = ['Einstein', 'Newton', 'Copernicus', 'Kepler']\n",
    "# use print function\n",
    "print(scientists)"
   ]
  },
  {
   "cell_type": "markdown",
   "id": "27bee145",
   "metadata": {},
   "source": [
    "## AW Question #3\n",
    "#### Assume the list numbers1 has 100 elements, and numbers2 is an empty list. Write code that copies the values in numbers1 to numbers2.\n",
    "\n"
   ]
  },
  {
   "cell_type": "code",
   "execution_count": 3,
   "id": "09d697ff",
   "metadata": {},
   "outputs": [
    {
     "name": "stdout",
     "output_type": "stream",
     "text": [
      "[0, 1, 2, 3, 4, 5, 6, 7, 8, 9, 10, 11, 12, 13, 14, 15, 16, 17, 18, 19, 20, 21, 22, 23, 24, 25, 26, 27, 28, 29, 30, 31, 32, 33, 34, 35, 36, 37, 38, 39, 40, 41, 42, 43, 44, 45, 46, 47, 48, 49, 50, 51, 52, 53, 54, 55, 56, 57, 58, 59, 60, 61, 62, 63, 64, 65, 66, 67, 68, 69, 70, 71, 72, 73, 74, 75, 76, 77, 78, 79, 80, 81, 82, 83, 84, 85, 86, 87, 88, 89, 90, 91, 92, 93, 94, 95, 96, 97, 98, 99]\n"
     ]
    }
   ],
   "source": [
    "# set up lists for both variables\n",
    "numbers1 = [n for n in range(100)]\n",
    "numbers2 = []\n",
    "# numbers2 needs to be an empty list\n",
    "\n",
    "# Verify numbers1 is correct\n",
    "print(numbers1)"
   ]
  },
  {
   "cell_type": "code",
   "execution_count": 4,
   "id": "8b836eef",
   "metadata": {},
   "outputs": [
    {
     "name": "stdout",
     "output_type": "stream",
     "text": [
      "[0, 1, 2, 3, 4, 5, 6, 7, 8, 9, 10, 11, 12, 13, 14, 15, 16, 17, 18, 19, 20, 21, 22, 23, 24, 25, 26, 27, 28, 29, 30, 31, 32, 33, 34, 35, 36, 37, 38, 39, 40, 41, 42, 43, 44, 45, 46, 47, 48, 49, 50, 51, 52, 53, 54, 55, 56, 57, 58, 59, 60, 61, 62, 63, 64, 65, 66, 67, 68, 69, 70, 71, 72, 73, 74, 75, 76, 77, 78, 79, 80, 81, 82, 83, 84, 85, 86, 87, 88, 89, 90, 91, 92, 93, 94, 95, 96, 97, 98, 99]\n"
     ]
    }
   ],
   "source": [
    "# append numbers2 with list from numbers1 with for string\n",
    "for num in numbers1:\n",
    "    numbers2.append(num)\n",
    "    # almost forgot the colon :-/\n",
    "\n",
    "# verify copy with print function\n",
    "print(numbers2)"
   ]
  },
  {
   "cell_type": "markdown",
   "id": "2aae5445",
   "metadata": {},
   "source": [
    "## PE Question #1\n",
    "#### Design a program that asks the user to enter a store’s sales for each day of the week. The amounts should be stored in a list. Use a loop to calculate the total sales for the week and display the result."
   ]
  },
  {
   "cell_type": "code",
   "execution_count": 5,
   "id": "c11ba325",
   "metadata": {},
   "outputs": [
    {
     "ename": "SyntaxError",
     "evalue": "unterminated string literal (detected at line 6) (1754323286.py, line 6)",
     "output_type": "error",
     "traceback": [
      "\u001b[1;36m  Cell \u001b[1;32mIn[5], line 6\u001b[1;36m\u001b[0m\n\u001b[1;33m    daily_sales = float(input(f'Enter the sale in dollars for {day}: ))\u001b[0m\n\u001b[1;37m                              ^\u001b[0m\n\u001b[1;31mSyntaxError\u001b[0m\u001b[1;31m:\u001b[0m unterminated string literal (detected at line 6)\n"
     ]
    }
   ],
   "source": [
    "# first we need to set up an empty list for the sales data\n",
    "sales = []\n",
    "\n",
    "# set up a loop for the daily sales input\n",
    "for day in ['Monday', 'Tuesday', 'Wednesday', 'Thursday', 'Friday', 'Saturday', 'Sunday']:\n",
    "    daily_sales = float(input(f'Enter the sale in dollars for {day}: ))\n",
    "    # append sales data for each input\n",
    "    sales.append(daily_sales)\n",
    "\n",
    "# Here we calculate the sum of the total sales\n",
    "total_sales = sum(sales)\n",
    "                              \n",
    "# Use print function to display total sales\n",
    "print(f'Total sales for the week are: ${total_sales})"
   ]
  },
  {
   "cell_type": "code",
   "execution_count": 6,
   "id": "bfb98ead",
   "metadata": {},
   "outputs": [
    {
     "name": "stdout",
     "output_type": "stream",
     "text": [
      "Enter the sale in dollars for Monday: 500\n",
      "Enter the sale in dollars for Tuesday: 200\n",
      "Enter the sale in dollars for Wednesday: 550\n",
      "Enter the sale in dollars for Thursday: 425\n",
      "Enter the sale in dollars for Friday: 600\n",
      "Enter the sale in dollars for Saturday: 700\n",
      "Enter the sale in dollars for Sunday: 900\n",
      "Total sales for the week are: $3875.0\n"
     ]
    }
   ],
   "source": [
    "# fixed syntax error\n",
    "# first we need to set up an empty list for the sales data\n",
    "sales = []\n",
    "\n",
    "# set up a loop for the daily sales input\n",
    "for day in ['Monday', 'Tuesday', 'Wednesday', 'Thursday', 'Friday', 'Saturday', 'Sunday']:\n",
    "    daily_sales = float(input(f'Enter the sale in dollars for {day}: '))\n",
    "    # append sales data for each input\n",
    "    sales.append(daily_sales)\n",
    "\n",
    "# Here we calculate the sum of the total sales\n",
    "total_sales = sum(sales)\n",
    "                              \n",
    "# Use print function to display total sales\n",
    "print(f'Total sales for the week are: ${total_sales}')"
   ]
  },
  {
   "cell_type": "markdown",
   "id": "83ed518f",
   "metadata": {},
   "source": [
    "## PE Question #14\n",
    "#### Create a text file that contains your expenses for last month in the following categories:  Rent Gas Food Clothing Car payment Misc Write a Python program that reads the data from the file and uses matplotlib to plot a pie chart showing how you spend your money."
   ]
  },
  {
   "cell_type": "code",
   "execution_count": 14,
   "id": "f3666e56",
   "metadata": {},
   "outputs": [
    {
     "name": "stdout",
     "output_type": "stream",
     "text": [
      "Enter in the name of the expense (or enter done to finish): Rent\n",
      "Enter the amount of the expense: 1100\n",
      "Enter in the name of the expense (or enter done to finish): Gas\n",
      "Enter the amount of the expense: 200\n",
      "Enter in the name of the expense (or enter done to finish): Food\n",
      "Enter the amount of the expense: 300\n",
      "Enter in the name of the expense (or enter done to finish): Clothing\n",
      "Enter the amount of the expense: 150\n",
      "Enter in the name of the expense (or enter done to finish): Car Payment\n",
      "Enter the amount of the expense: 700\n",
      "Enter in the name of the expense (or enter done to finish): Misc\n",
      "Enter the amount of the expense: 300\n",
      "Enter in the name of the expense (or enter done to finish): done\n",
      "Expenses have been saved to expenses.txt\n"
     ]
    }
   ],
   "source": [
    "# define main function\n",
    "def main():\n",
    "# Open a file in the write mode\n",
    "    with open('expenses.txt', 'w') as file:\n",
    "        while True:\n",
    "            # input the name of the expense and the amount paid\n",
    "            category = input('Enter in the name of the expense (or enter done to finish): ')\n",
    "            if category.lower() == 'done':\n",
    "                break\n",
    "            amount = input('Enter the amount of the expense: ')\n",
    "        \n",
    "            # writing the names and amounts into the file\n",
    "            file.write (f'{category},{amount}\\n')\n",
    "    print('Expenses have been saved to expenses.txt')\n",
    "\n",
    "if __name__ == '__main__':\n",
    "    main()\n",
    "    "
   ]
  },
  {
   "cell_type": "code",
   "execution_count": 31,
   "id": "84fc0e93",
   "metadata": {},
   "outputs": [
    {
     "data": {
      "image/png": "[encoded data removed]",
      "text/plain": [
       "<Figure size 640x480 with 1 Axes>"
      ]
     },
     "metadata": {},
     "output_type": "display_data"
    }
   ],
   "source": [
    "# I cannot seems to get this file to open and be used as a pie chart\n",
    "\n",
    "import matplotlib.pyplot as plt\n",
    "\n",
    "def main():\n",
    "    #setup values\n",
    "    expenses = [100,200,300,150,700,300]\n",
    "    names = ['Rent','Gas','Food','Clothing','Car Payment','Misc']\n",
    "    # assign values to the pie chart\n",
    "    plt.pie(expenses,labels=names)\n",
    "    plt.title('Monthly Expenses')\n",
    "    plt.show()\n",
    "if __name__ == '__main__':\n",
    "    main()"
   ]
  },
  {
   "cell_type": "markdown",
   "id": "a3b34eee",
   "metadata": {},
   "source": [
    "## PE Question #12\n",
    "#### A positive integer greater than 1 is said to be prime if it has no divisors other than 1 and itself. A positive integer greater than 1 is composite if it is not prime. Write a program that asks the user to enter an integer greater than 1, then displays all of the prime numbers that are less than or equal to the number entered. The program should work as follows:  \n",
    "#### Once the user has entered a number, the program should populate a list with all of the integers from 2 up through the value entered.\n",
    "#### The program should then use a loop to step through the list. The loop should pass each element to a function that displays whether the element is a prime number, or a composite number."
   ]
  },
  {
   "cell_type": "code",
   "execution_count": 37,
   "id": "4c3899ee",
   "metadata": {},
   "outputs": [
    {
     "name": "stdout",
     "output_type": "stream",
     "text": [
      "Enter an integer to find all prime numbers up to that number: 25\n",
      "2 is a prime number\n",
      "3 is a prime number\n",
      "4 is not a prime number.\n",
      "5 is a prime number\n",
      "6 is not a prime number.\n",
      "7 is a prime number\n",
      "8 is not a prime number.\n",
      "9 is not a prime number.\n",
      "10 is not a prime number.\n",
      "11 is a prime number\n",
      "12 is not a prime number.\n",
      "13 is a prime number\n",
      "14 is not a prime number.\n",
      "15 is not a prime number.\n",
      "16 is not a prime number.\n",
      "17 is a prime number\n",
      "18 is not a prime number.\n",
      "19 is a prime number\n",
      "20 is not a prime number.\n",
      "21 is not a prime number.\n",
      "22 is not a prime number.\n",
      "23 is a prime number\n",
      "24 is not a prime number.\n",
      "25 is not a prime number.\n"
     ]
    }
   ],
   "source": [
    "# define the function for the prime number\n",
    "def prime(num):\n",
    "    if num <= 1:\n",
    "        return False\n",
    "    for i in range(2, int(num ** 0.5) + 1):\n",
    "        if num % i == 0:\n",
    "            return False\n",
    "    return True\n",
    "\n",
    "# Define the main function\n",
    "def main():\n",
    "    # setting up the input statement\n",
    "    num = int(input('Enter an integer to find all prime numbers up to that number: '))\n",
    "    if num <= 1:\n",
    "        print('Please input a higher number.')\n",
    "        return\n",
    "    \n",
    "    numbers = range(2, num + 1)\n",
    "    for number in numbers:\n",
    "        if prime(number):\n",
    "            print(f'{number} is a prime number')\n",
    "        else:\n",
    "            print(f'{number} is not a prime number.')\n",
    "            \n",
    "if __name__ == '__main__':\n",
    "    main()"
   ]
  },
  {
   "cell_type": "markdown",
   "id": "7423934a",
   "metadata": {},
   "source": [
    "## PE Question #2\n",
    "\n",
    "#### Design a program that generates a seven-digit lottery number. The program should generate seven random numbers, each in the range of 0 through 9, and assign each number to a list element. (Random numbers were discussed in Chapter 5.) Then write another loop that displays the contents of the list."
   ]
  },
  {
   "cell_type": "code",
   "execution_count": 40,
   "id": "248cd995",
   "metadata": {},
   "outputs": [
    {
     "name": "stdout",
     "output_type": "stream",
     "text": [
      "The lottery numbers for tonight are: \n",
      "9538788\n"
     ]
    }
   ],
   "source": [
    "# we need to import the random function from the library\n",
    "import random\n",
    "\n",
    "# Generate a 7 digit lotto number\n",
    "lotto_num = []\n",
    "for i in range(7):\n",
    "    lotto_num.append(random.randint(0,9)) \n",
    "    # this with make the program choose numbers 0 thru 9\n",
    "    \n",
    "# Display the lotto Numbers\n",
    "print('The lottery numbers for tonight are: ')\n",
    "for number in lotto_num:\n",
    "    print(number, end='')\n",
    "print()"
   ]
  },
  {
   "cell_type": "code",
   "execution_count": null,
   "id": "61c4be18",
   "metadata": {},
   "outputs": [],
   "source": []
  }
 ],
 "metadata": {
  "kernelspec": {
   "display_name": "Python 3 (ipykernel)",
   "language": "python",
   "name": "python3"
  },
  "language_info": {
   "codemirror_mode": {
    "name": "ipython",
    "version": 3
   },
   "file_extension": ".py",
   "mimetype": "text/x-python",
   "name": "python",
   "nbconvert_exporter": "python",
   "pygments_lexer": "ipython3",
   "version": "3.11.5"
  }
 },
 "nbformat": 4,
 "nbformat_minor": 5
}
