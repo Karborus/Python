{
 "cells": [
  {
   "cell_type": "markdown",
   "id": "bbe18681",
   "metadata": {},
   "source": [
    "## AW Question #1\n",
    "#### Assume Choice references a string. The following if statement determines whether is equal to ‘Y’ or ‘y’:\n",
    "#### if choice == 'Y' or choice == 'y'\n",
    "#### Rewrite this statement so it only makes one comparison, and does not use the or operator."
   ]
  },
  {
   "cell_type": "code",
   "execution_count": 1,
   "id": "ec40c863",
   "metadata": {},
   "outputs": [
    {
     "ename": "SyntaxError",
     "evalue": "expected ':' (4289986904.py, line 2)",
     "output_type": "error",
     "traceback": [
      "\u001b[1;36m  Cell \u001b[1;32mIn[1], line 2\u001b[1;36m\u001b[0m\n\u001b[1;33m    if choice.lower() == 'y'\u001b[0m\n\u001b[1;37m                            ^\u001b[0m\n\u001b[1;31mSyntaxError\u001b[0m\u001b[1;31m:\u001b[0m expected ':'\n"
     ]
    }
   ],
   "source": [
    "# this can be easily done with the upper or lower methods\n",
    "if choice.lower() == 'y'"
   ]
  },
  {
   "cell_type": "code",
   "execution_count": 2,
   "id": "f0778496",
   "metadata": {},
   "outputs": [
    {
     "ename": "SyntaxError",
     "evalue": "incomplete input (1621583878.py, line 2)",
     "output_type": "error",
     "traceback": [
      "\u001b[1;36m  Cell \u001b[1;32mIn[2], line 2\u001b[1;36m\u001b[0m\n\u001b[1;33m    if choice.lower() == 'y':\u001b[0m\n\u001b[1;37m                             ^\u001b[0m\n\u001b[1;31mSyntaxError\u001b[0m\u001b[1;31m:\u001b[0m incomplete input\n"
     ]
    }
   ],
   "source": [
    "# I forgot the ever elusive colon\n",
    "if choice.lower() == 'y':"
   ]
  },
  {
   "cell_type": "markdown",
   "id": "963f7ec8",
   "metadata": {},
   "source": [
    "## AW Question #5\n",
    "#### Write a function that accepts a string as an argument and returns true if the argument ends with the substring '.com'. Otherwise, the function should return false."
   ]
  },
  {
   "cell_type": "code",
   "execution_count": null,
   "id": "7e76371c",
   "metadata": {},
   "outputs": [],
   "source": [
    "# we will set up a defined function\n",
    "def end_with_com(test):\n",
    "    return test.endswith('.com')\n"
   ]
  }
 ],
 "metadata": {
  "kernelspec": {
   "display_name": "Python 3 (ipykernel)",
   "language": "python",
   "name": "python3"
  },
  "language_info": {
   "codemirror_mode": {
    "name": "ipython",
    "version": 3
   },
   "file_extension": ".py",
   "mimetype": "text/x-python",
   "name": "python",
   "nbconvert_exporter": "python",
   "pygments_lexer": "ipython3",
   "version": "3.11.5"
  }
 },
 "nbformat": 4,
 "nbformat_minor": 5
}
