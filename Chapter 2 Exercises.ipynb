{
 "cells": [
  {
   "cell_type": "markdown",
   "id": "ecf355cd",
   "metadata": {},
   "source": [
    "# Chapter 2 Exercise\n",
    "\n",
    "## Algorithm Workbench - Question 2"
   ]
  },
  {
   "cell_type": "markdown",
   "id": "eb45a136",
   "metadata": {},
   "source": [
    "#### The Workbench questions wants me to write a python code that prompts the user to enter his or her favorite color and assigns the user's input to the variable named color"
   ]
  },
  {
   "cell_type": "code",
   "execution_count": 1,
   "id": "2499e1e6",
   "metadata": {},
   "outputs": [
    {
     "name": "stdout",
     "output_type": "stream",
     "text": [
      "What is your favorite color? Coral\n",
      "Your favorite color is Coral\n"
     ]
    }
   ],
   "source": [
    "# First I have to create an input and prompt that will be assigned to a variable\n",
    "\n",
    "color = input('What is your favorite color? ')\n",
    "\n",
    "# I put a space after the \"?\" because I think that if I do it will be easy to read\n",
    "\n",
    "# I am going to add a print function and place the variable within it\n",
    "\n",
    "print('Your favorite color is', color)"
   ]
  },
  {
   "cell_type": "markdown",
   "id": "24538c03",
   "metadata": {},
   "source": [
    "## Programing Exercise - Question 1"
   ]
  },
  {
   "cell_type": "markdown",
   "id": "60fdf1e9",
   "metadata": {},
   "source": [
    "#### I am going to create a program that displays a student's name, address, phone number, and college major"
   ]
  },
  {
   "cell_type": "code",
   "execution_count": 2,
   "id": "6efc3dfd",
   "metadata": {},
   "outputs": [
    {
     "name": "stdout",
     "output_type": "stream",
     "text": [
      "What is your full name? Raul Castillo\n",
      "What is your address? 555 Verde Dr, Santa Claro, CA 90210\n",
      "What is your phone number? 867-5309\n",
      "What is your college major? International Business\n",
      "The information that you have entered is as follows:\n",
      "Raul Castillo\n",
      "555 Verde Dr, Santa Claro, CA 90210\n",
      "867-5309\n",
      "International Business\n"
     ]
    }
   ],
   "source": [
    "# I want to do this in the same fashion as the AW question above.\n",
    "\n",
    "full_name = input('What is your full name? ')\n",
    "\n",
    "address = input('What is your address? ')\n",
    "\n",
    "phone_number = input('What is your phone number? ')\n",
    "\n",
    "college_major = input('What is your college major? ')\n",
    "\n",
    "# I am going to write a print function so that everything will show up nice and neatly\n",
    "\n",
    "print('The information that you have entered is as follows:')\n",
    "\n",
    "print(full_name)\n",
    "\n",
    "print(address)\n",
    "\n",
    "print(phone_number)\n",
    "\n",
    "print(college_major)"
   ]
  }
 ],
 "metadata": {
  "kernelspec": {
   "display_name": "Python 3 (ipykernel)",
   "language": "python",
   "name": "python3"
  },
  "language_info": {
   "codemirror_mode": {
    "name": "ipython",
    "version": 3
   },
   "file_extension": ".py",
   "mimetype": "text/x-python",
   "name": "python",
   "nbconvert_exporter": "python",
   "pygments_lexer": "ipython3",
   "version": "3.11.5"
  }
 },
 "nbformat": 4,
 "nbformat_minor": 5
}
