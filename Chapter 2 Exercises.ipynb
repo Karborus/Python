{
 "cells": [
  {
   "cell_type": "markdown",
   "id": "ecf355cd",
   "metadata": {},
   "source": [
    "# Chapter 2 Exercise\n",
    "\n",
    "## Algorithm Workbench - Question 2"
   ]
  },
  {
   "cell_type": "markdown",
   "id": "eb45a136",
   "metadata": {},
   "source": [
    "#### The Workbench questions wants me to write a python code that prompts the user to enter his or her favorite color and assigns the user's input to the variable named color"
   ]
  },
  {
   "cell_type": "code",
   "execution_count": 3,
   "id": "2499e1e6",
   "metadata": {},
   "outputs": [
    {
     "name": "stdout",
     "output_type": "stream",
     "text": [
      "What is your favorite color? Coral\n",
      "Your favorite color is Coral\n"
     ]
    }
   ],
   "source": [
    "# First I have to create an input and prompt that will be assigned to a variable\n",
    "\n",
    "color = input('What is your favorite color? ')\n",
    "\n",
    "# I put a space after the \"?\" because I think that if I do it will be easy to read\n",
    "\n",
    "# I am going to add a print function and place the variable within it\n",
    "\n",
    "print('Your favorite color is', color)"
   ]
  },
  {
   "cell_type": "code",
   "execution_count": null,
   "id": "19b68f15",
   "metadata": {},
   "outputs": [],
   "source": []
  }
 ],
 "metadata": {
  "kernelspec": {
   "display_name": "Python 3 (ipykernel)",
   "language": "python",
   "name": "python3"
  },
  "language_info": {
   "codemirror_mode": {
    "name": "ipython",
    "version": 3
   },
   "file_extension": ".py",
   "mimetype": "text/x-python",
   "name": "python",
   "nbconvert_exporter": "python",
   "pygments_lexer": "ipython3",
   "version": "3.11.5"
  }
 },
 "nbformat": 4,
 "nbformat_minor": 5
}
