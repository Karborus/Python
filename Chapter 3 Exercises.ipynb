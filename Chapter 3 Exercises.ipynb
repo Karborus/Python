{
 "cells": [
  {
   "cell_type": "markdown",
   "id": "7ca0a7f4",
   "metadata": {},
   "source": [
    "## Chapter 3 AW Question #4"
   ]
  },
  {
   "cell_type": "markdown",
   "id": "75683ff4",
   "metadata": {},
   "source": [
    "#### The following code has several nested if-else statements and it was written without the proper alignment and indentation\n",
    "#### We are asked to fix the code"
   ]
  },
  {
   "cell_type": "code",
   "execution_count": null,
   "id": "2abfbfb8",
   "metadata": {},
   "outputs": [],
   "source": [
    "if score >= A_score:\n",
    "print('Your grade is A.')\n",
    "else:\n",
    "if score >= B_score:\n",
    "print('Your grade is B.')\n",
    "else:\n",
    "if score >= C_score:\n",
    "print('Your grade is C.')\n",
    "else:\n",
    "if score >= D_score:\n",
    "print('Your grade is D.')\n",
    "else:\n",
    "print('Your grade is F')\n",
    "\n",
    "##### I did notice that when I typed out the incorrect code. Jupyter Notebook \n",
    "##### was trying to auto correct my code"
   ]
  },
  {
   "cell_type": "code",
   "execution_count": null,
   "id": "e1e2a487",
   "metadata": {},
   "outputs": [],
   "source": [
    "if score >= A_score:\n",
    "    print('Your grade is A.')\n",
    "else:\n",
    "    if score >= B_score:\n",
    "        print('Your grade is B.')\n",
    "else:\n",
    "    if score >= C_score:\n",
    "        print('Your grade is C.')\n",
    "else:\n",
    "    if score >= D_score:\n",
    "        print('Your grade is D.')\n",
    "else:\n",
    "    print('Your grade is F.')\n",
    "    \n",
    "#### I realized that no matter what, every line wanted to indent itself. \n",
    "#### I found that if you are not paying, your indentation can get very confusing."
   ]
  },
  {
   "cell_type": "markdown",
   "id": "40d3ec8a",
   "metadata": {},
   "source": [
    "## Chapter 3 AW Question #5"
   ]
  },
  {
   "cell_type": "markdown",
   "id": "2ead82d6",
   "metadata": {},
   "source": [
    "#### Write nested decision structures that perform the following: If Amount1 is greater than 10 and Amount2 is less than 100, \n",
    "#### display the greater of Amount1 and Amount2."
   ]
  },
  {
   "cell_type": "code",
   "execution_count": 1,
   "id": "860572bb",
   "metadata": {},
   "outputs": [
    {
     "ename": "SyntaxError",
     "evalue": "expected ':' (1377452519.py, line 8)",
     "output_type": "error",
     "traceback": [
      "\u001b[1;36m  Cell \u001b[1;32mIn[1], line 8\u001b[1;36m\u001b[0m\n\u001b[1;33m    if Amount1 > 10 and Amount2 < 100\u001b[0m\n\u001b[1;37m                                     ^\u001b[0m\n\u001b[1;31mSyntaxError\u001b[0m\u001b[1;31m:\u001b[0m expected ':'\n"
     ]
    }
   ],
   "source": [
    "#### First we have to set up the input statements for Amount1 and Amount2\n",
    "\n",
    "Amount1 = int(input('Enter in your first amount: '))\n",
    "Amount2 = int(input('Enter in your second amount: '))\n",
    "\n",
    "#### Now we have to set up an if-elif-else statement\n",
    "\n",
    "if Amount1 > 10 and Amount2 < 100\n",
    "    if Amount1 > Amount2\n",
    "        print(Amount1 'is the greater number.')\n",
    "    elif Amount2 > Amount1\n",
    "        print(Amount2 'is the greater number.')\n",
    "else\n",
    "    print('your numbers are out of range')"
   ]
  },
  {
   "cell_type": "markdown",
   "id": "43a9fda2",
   "metadata": {},
   "source": [
    "####### I had a syntax error indicating that I forgot to input : into my lines"
   ]
  },
  {
   "cell_type": "code",
   "execution_count": 13,
   "id": "21716727",
   "metadata": {},
   "outputs": [
    {
     "name": "stdout",
     "output_type": "stream",
     "text": [
      "Enter in your first amount: 9\n",
      "Enter in your second amount: 111\n",
      "your numbers are out of range\n"
     ]
    }
   ],
   "source": [
    "Amount1 = int(input('Enter in your first amount: '))\n",
    "Amount2 = int(input('Enter in your second amount: '))\n",
    "\n",
    "if Amount1 > 10 and Amount2 < 100:\n",
    "    if Amount1 > Amount2:\n",
    "        print('the first number is the greater number.')\n",
    "    elif Amount2 > Amount1:\n",
    "        print('the second number is the greater number.')\n",
    "else:\n",
    "    print('your numbers are out of range')\n",
    "    \n",
    "#### I had some issues with my print statement due to trying to make the number show up\n",
    "#### So I had to go with a blanket print statement"
   ]
  },
  {
   "cell_type": "markdown",
   "id": "1f5a6ccf",
   "metadata": {},
   "source": [
    "## Chapter 3 PE Question #1\n",
    "\n",
    "#### Write a program that asks the user for a number in the range of 1 through 7. The program should display the corresponding day of the week, where 1 = Monday, 2 = Tuesday, 3 = Wednesday, 4 = Thursday, 5 = Friday, 6 = Saturday, and 7 = Sunday. The program should display an error message if the user enters a number that is outside the range of 1 through 7."
   ]
  },
  {
   "cell_type": "code",
   "execution_count": null,
   "id": "45d3081d",
   "metadata": {},
   "outputs": [],
   "source": [
    "#### First we need to create a set of variables for each of the days of the week\n",
    "\n",
    "1 = Monday\n",
    "2 = Tuesday\n",
    "3 = Wednesday\n",
    "4 = Thursday\n",
    "5 = Friday\n",
    "6 = Saturday\n",
    "7 = Sunday\n",
    "\n",
    "#### Now we have to set up the input statements\n",
    "\n",
    "Day = int(input('Please select a number for the day of the week: '))\n",
    "\n",
    "#### Now We need to create the if-elif-else statement\n",
    "\n",
    "if Day < 1 or > 7:\n",
    "    if Day == 1\n",
    "        print('You have selected Monday!')\n",
    "    elif Day == 2\n",
    "        print('You have selected Tuesday!')\n",
    "    elif Day == 3\n",
    "        print('You have selected Wednesday!')\n",
    "    elif Day == 4\n",
    "        print('You have selected Thursday!')\n",
    "    elif Day == 5\n",
    "        print('You have selected Friday!')\n",
    "    elif Day == 6\n",
    "        print('You have selected Saturday!')\n",
    "    elif Day == 7\n",
    "        print('You have selected Sunday!')\n",
    "else print('You have not selected a proper day of the week')"
   ]
  }
 ],
 "metadata": {
  "kernelspec": {
   "display_name": "Python 3 (ipykernel)",
   "language": "python",
   "name": "python3"
  },
  "language_info": {
   "codemirror_mode": {
    "name": "ipython",
    "version": 3
   },
   "file_extension": ".py",
   "mimetype": "text/x-python",
   "name": "python",
   "nbconvert_exporter": "python",
   "pygments_lexer": "ipython3",
   "version": "3.11.5"
  }
 },
 "nbformat": 4,
 "nbformat_minor": 5
}
