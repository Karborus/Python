{
 "cells": [
  {
   "cell_type": "markdown",
   "id": "7ca0a7f4",
   "metadata": {},
   "source": [
    "## Chapter 3 AW Question #4"
   ]
  },
  {
   "cell_type": "markdown",
   "id": "75683ff4",
   "metadata": {},
   "source": [
    "#### The following code has several nested if-else statements and it was written without the proper alignment and indentation\n",
    "#### We are asked to fix the code"
   ]
  },
  {
   "cell_type": "code",
   "execution_count": null,
   "id": "2abfbfb8",
   "metadata": {},
   "outputs": [],
   "source": [
    "if score >= A_score:\n",
    "print('Your grade is A.')\n",
    "else:\n",
    "if score >= B_score:\n",
    "print('Your grade is B.')\n",
    "else:\n",
    "if score >= C_score:\n",
    "print('Your grade is C.')\n",
    "else:\n",
    "if score >= D_score:\n",
    "print('Your grade is D.')\n",
    "else:\n",
    "print('Your grade is F')\n",
    "\n",
    "##### I did notice that when I typed out the incorrect code. Jupyter Notebook \n",
    "##### was trying to auto correct my code"
   ]
  },
  {
   "cell_type": "code",
   "execution_count": null,
   "id": "e1e2a487",
   "metadata": {},
   "outputs": [],
   "source": [
    "if score >= A_score:\n",
    "    print('Your grade is A.')\n",
    "else:\n",
    "    if score >= B_score:\n",
    "        print('Your grade is B.')\n",
    "else:\n",
    "    if score >= C_score:\n",
    "        print('Your grade is C.')\n",
    "else:\n",
    "    if score >= D_score:\n",
    "        print('Your grade is D.')\n",
    "else:\n",
    "    print('Your grade is F.')\n",
    "    \n",
    "#### I realized that no matter what, every line wanted to indent itself. \n",
    "#### I found that if you are not paying, your indentation can get very confusing."
   ]
  },
  {
   "cell_type": "markdown",
   "id": "8bf67202",
   "metadata": {},
   "source": [
    "## Chapter 3 AW Question #5"
   ]
  },
  {
   "cell_type": "markdown",
   "id": "0640216d",
   "metadata": {},
   "source": [
    "#### Write nested decision structures that perform the following: If Amount1 is greater than 10 and Amount2 is less than 100, \n",
    "#### display the greater of Amount1 and Amount2."
   ]
  },
  {
   "cell_type": "code",
   "execution_count": null,
   "id": "8b503f74",
   "metadata": {},
   "outputs": [],
   "source": [
    "#### First we have to set up the input statements for Amount1 and Amount2\n",
    "\n",
    "Amount1 = int(input('Enter in your first amount: '))\n",
    "Amount2 = int(input('Enter in your second amount: '))\n",
    "\n",
    "#### Now we have to set up an if-elif-else statement\n",
    "\n",
    "if Amount1 > 10 and Amount2 < 100\n",
    "    if Amount1 > Amount2\n",
    "        print(Amount1 'is the greater number.')\n",
    "    elif Amount2 > Amount1\n",
    "        print(Amount2 'is the greater number.')\n",
    "else\n",
    "    print('your numbers are out of range')"
   ]
  },
  {
   "cell_type": "code",
   "execution_count": null,
   "id": "d689c9fb",
   "metadata": {},
   "outputs": [],
   "source": []
  }
 ],
 "metadata": {
  "kernelspec": {
   "display_name": "Python 3 (ipykernel)",
   "language": "python",
   "name": "python3"
  },
  "language_info": {
   "codemirror_mode": {
    "name": "ipython",
    "version": 3
   },
   "file_extension": ".py",
   "mimetype": "text/x-python",
   "name": "python",
   "nbconvert_exporter": "python",
   "pygments_lexer": "ipython3",
   "version": "3.11.5"
  }
 },
 "nbformat": 4,
 "nbformat_minor": 5
}
