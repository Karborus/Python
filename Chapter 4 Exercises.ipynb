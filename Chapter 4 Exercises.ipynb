{
 "cells": [
  {
   "cell_type": "markdown",
   "id": "bdae5dff",
   "metadata": {},
   "source": [
    "## Chapter 4 AW Question #1\n",
    "\n",
    "#### Write a loop that lets the user enter a number. The number should be multiplied by 10, and the result assigned to a variable named Product. The loop should iterate as long as  is less than 100."
   ]
  },
  {
   "cell_type": "code",
   "execution_count": 1,
   "id": "87a15f13",
   "metadata": {},
   "outputs": [
    {
     "name": "stdout",
     "output_type": "stream",
     "text": [
      "Enter the number of packages: 4\n",
      "Our total in stock:  40\n",
      "Enter the number of packages: 10\n",
      "Our total in stock:  100\n",
      "We do not have enough in stock to fullfill your order.\n"
     ]
    }
   ],
   "source": [
    "#### We need to set a baseline for the variable Product\n",
    "product = 1\n",
    "\n",
    "#### Now we will have to create our while loop condition\n",
    "while product < 100:\n",
    "\n",
    "#### Now will we will be creating a variable for an input. \n",
    "#### Let's call it \"packages\"\n",
    "    packages = int(input('Enter the number of packages: '))\n",
    "    \n",
    "#### Now we will create the formula needed to multiple packages by 10\n",
    "    product = packages * 10\n",
    "    \n",
    "#### Now we will set up the print function\n",
    "    print('Our total in stock: ',product)\n",
    "\n",
    "#### Let's create the failure print function message\n",
    "print('We do not have enough in stock to fullfill your order.')\n",
    "\n",
    "#### Now we will test run the program."
   ]
  },
  {
   "cell_type": "markdown",
   "id": "fc741fd0",
   "metadata": {},
   "source": [
    "## Chapter 4 AW Question #3\n",
    "\n",
    "#### Write a for loop that displays the following set of numbers: 0, 10 , 20, 30, 40, .....1000"
   ]
  },
  {
   "cell_type": "code",
   "execution_count": null,
   "id": "ec2624e0",
   "metadata": {},
   "outputs": [],
   "source": [
    "#### First we need to set an initial variable \n",
    "\n",
    "num = 0\n",
    "\n",
    "####  Now we will need to a For Loop\n",
    "for num in range(0, 1001, 10)\n",
    "\n",
    "#### now we will need a print function\n",
    "    print(num)"
   ]
  }
 ],
 "metadata": {
  "kernelspec": {
   "display_name": "Python 3 (ipykernel)",
   "language": "python",
   "name": "python3"
  },
  "language_info": {
   "codemirror_mode": {
    "name": "ipython",
    "version": 3
   },
   "file_extension": ".py",
   "mimetype": "text/x-python",
   "name": "python",
   "nbconvert_exporter": "python",
   "pygments_lexer": "ipython3",
   "version": "3.11.5"
  }
 },
 "nbformat": 4,
 "nbformat_minor": 5
}
