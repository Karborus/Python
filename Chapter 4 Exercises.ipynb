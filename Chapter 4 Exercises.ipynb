{
 "cells": [
  {
   "cell_type": "markdown",
   "id": "5c2719cc",
   "metadata": {},
   "source": [
    "## Chapter 4 AW Question #1\n",
    "\n",
    "#### Write a loop that lets the user enter a number. The number should be multiplied by 10, and the result assigned to a variable named Product. The loop should iterate as long as  is less than 100."
   ]
  },
  {
   "cell_type": "code",
   "execution_count": 1,
   "id": "1e2998ac",
   "metadata": {},
   "outputs": [
    {
     "name": "stdout",
     "output_type": "stream",
     "text": [
      "Enter the number of packages: 4\n",
      "Our total in stock:  40\n",
      "Enter the number of packages: 10\n",
      "Our total in stock:  100\n",
      "We do not have enough in stock to fullfill your order.\n"
     ]
    }
   ],
   "source": [
    "#### We need to set a baseline for the variable Product\n",
    "product = 1\n",
    "\n",
    "#### Now we will have to create our while loop condition\n",
    "while product < 100:\n",
    "\n",
    "#### Now will we will be creating a variable for an input. \n",
    "#### Let's call it \"packages\"\n",
    "    packages = int(input('Enter the number of packages: '))\n",
    "    \n",
    "#### Now we will create the formula needed to multiple packages by 10\n",
    "    product = packages * 10\n",
    "    \n",
    "#### Now we will set up the print function\n",
    "    print('Our total in stock: ',product)\n",
    "\n",
    "#### Let's create the failure print function message\n",
    "print('We do not have enough in stock to fullfill your order.')\n",
    "\n",
    "#### Now we will test run the program."
   ]
  },
  {
   "cell_type": "markdown",
   "id": "3ddd1ba9",
   "metadata": {},
   "source": [
    "## Chapter 4 AW Question #3\n",
    "\n",
    "#### Write a for loop that displays the following set of numbers: 0, 10 , 20, 30, 40, .....1000"
   ]
  },
  {
   "cell_type": "code",
   "execution_count": 3,
   "id": "0613fe57",
   "metadata": {},
   "outputs": [
    {
     "name": "stdout",
     "output_type": "stream",
     "text": [
      "0\n",
      "10\n",
      "20\n",
      "30\n",
      "40\n",
      "50\n",
      "60\n",
      "70\n",
      "80\n",
      "90\n",
      "100\n",
      "110\n",
      "120\n",
      "130\n",
      "140\n",
      "150\n",
      "160\n",
      "170\n",
      "180\n",
      "190\n",
      "200\n",
      "210\n",
      "220\n",
      "230\n",
      "240\n",
      "250\n",
      "260\n",
      "270\n",
      "280\n",
      "290\n",
      "300\n",
      "310\n",
      "320\n",
      "330\n",
      "340\n",
      "350\n",
      "360\n",
      "370\n",
      "380\n",
      "390\n",
      "400\n",
      "410\n",
      "420\n",
      "430\n",
      "440\n",
      "450\n",
      "460\n",
      "470\n",
      "480\n",
      "490\n",
      "500\n",
      "510\n",
      "520\n",
      "530\n",
      "540\n",
      "550\n",
      "560\n",
      "570\n",
      "580\n",
      "590\n",
      "600\n",
      "610\n",
      "620\n",
      "630\n",
      "640\n",
      "650\n",
      "660\n",
      "670\n",
      "680\n",
      "690\n",
      "700\n",
      "710\n",
      "720\n",
      "730\n",
      "740\n",
      "750\n",
      "760\n",
      "770\n",
      "780\n",
      "790\n",
      "800\n",
      "810\n",
      "820\n",
      "830\n",
      "840\n",
      "850\n",
      "860\n",
      "870\n",
      "880\n",
      "890\n",
      "900\n",
      "910\n",
      "920\n",
      "930\n",
      "940\n",
      "950\n",
      "960\n",
      "970\n",
      "980\n",
      "990\n",
      "1000\n"
     ]
    }
   ],
   "source": [
    "#### First we need to set an initial variable \n",
    "\n",
    "num = 0\n",
    "\n",
    "####  Now we will need to a For Loop\n",
    "for num in range(0, 1001, 10):\n",
    "\n",
    "#### now we will need a print function\n",
    "    print(num)\n",
    "    \n",
    "#### first test run gave us a syntax error regarding a missing :"
   ]
  },
  {
   "cell_type": "markdown",
   "id": "39cb5ec9",
   "metadata": {},
   "source": [
    "## Chapter 4 PE Question #1\n",
    "\n",
    "#### A bug collector collects bugs every day for five days. Write a program that keeps a running total of the number of bugs collected during the five days. The loop should ask for the number of bugs collected for each day, and when the loop is finished, the program should display the total number of bugs collected."
   ]
  },
  {
   "cell_type": "code",
   "execution_count": 5,
   "id": "41002748",
   "metadata": {},
   "outputs": [
    {
     "ename": "TypeError",
     "evalue": "Kernel.raw_input() takes from 1 to 2 positional arguments but 4 were given",
     "output_type": "error",
     "traceback": [
      "\u001b[1;31m---------------------------------------------------------------------------\u001b[0m",
      "\u001b[1;31mTypeError\u001b[0m                                 Traceback (most recent call last)",
      "Cell \u001b[1;32mIn[5], line 9\u001b[0m\n\u001b[0;32m      4\u001b[0m \u001b[38;5;66;03m#### Now We will be creating a For Loop to set a range\u001b[39;00m\n\u001b[0;32m      5\u001b[0m \u001b[38;5;28;01mfor\u001b[39;00m day \u001b[38;5;129;01min\u001b[39;00m \u001b[38;5;28mrange\u001b[39m(\u001b[38;5;241m1\u001b[39m, \u001b[38;5;241m6\u001b[39m):\n\u001b[0;32m      6\u001b[0m \u001b[38;5;66;03m#### the second nuber is 6 so that the program will include day 5 and stop at 6\u001b[39;00m\n\u001b[0;32m      7\u001b[0m \n\u001b[0;32m      8\u001b[0m \u001b[38;5;66;03m#### now we will create the input statement for the current day\u001b[39;00m\n\u001b[1;32m----> 9\u001b[0m     bugs \u001b[38;5;241m=\u001b[39m \u001b[38;5;28mint\u001b[39m(\u001b[38;5;28minput\u001b[39m(\u001b[38;5;124m'\u001b[39m\u001b[38;5;124mEnter the number of bugs collected on day\u001b[39m\u001b[38;5;124m'\u001b[39m, (day), \u001b[38;5;124m'\u001b[39m\u001b[38;5;124m:\u001b[39m\u001b[38;5;124m'\u001b[39m))\n\u001b[0;32m     11\u001b[0m \u001b[38;5;66;03m#### Now we need a formula to add each day\u001b[39;00m\n\u001b[0;32m     12\u001b[0m     total \u001b[38;5;241m+\u001b[39m\u001b[38;5;241m=\u001b[39m bugs\n",
      "\u001b[1;31mTypeError\u001b[0m: Kernel.raw_input() takes from 1 to 2 positional arguments but 4 were given"
     ]
    }
   ],
   "source": [
    "#### First in this exercise we will have to set a bug count to 0\n",
    "total = 0\n",
    "\n",
    "#### Now We will be creating a For Loop to set a range\n",
    "for day in range(1, 6):\n",
    "#### the second nuber is 6 so that the program will include day 5 and stop at 6\n",
    "\n",
    "#### now we will create the input statement for the current day\n",
    "    bugs = int(input('Enter the number of bugs collected on day', (day), ':'))\n",
    "    \n",
    "#### Now we need a formula to add each day\n",
    "    total += bugs\n",
    "\n",
    "#### Now we need the print statement to tally up the total\n",
    "print('The total number of bugs collected in 5 days is: ', total)\n",
    "\n",
    "#### Now we will test run the program\n",
    "#### First run ended in syntax error for missing :\n",
    "####"
   ]
  },
  {
   "cell_type": "code",
   "execution_count": null,
   "id": "0d9f1bc8",
   "metadata": {},
   "outputs": [],
   "source": []
  }
 ],
 "metadata": {
  "kernelspec": {
   "display_name": "Python 3 (ipykernel)",
   "language": "python",
   "name": "python3"
  },
  "language_info": {
   "codemirror_mode": {
    "name": "ipython",
    "version": 3
   },
   "file_extension": ".py",
   "mimetype": "text/x-python",
   "name": "python",
   "nbconvert_exporter": "python",
   "pygments_lexer": "ipython3",
   "version": "3.11.5"
  }
 },
 "nbformat": 4,
 "nbformat_minor": 5
}
