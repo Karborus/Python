{
 "cells": [
  {
   "cell_type": "markdown",
   "id": "8c875df7",
   "metadata": {},
   "source": [
    "## Chapter 5 AW #1\n",
    "\n",
    "#### Write a function named times_ten. The function should accept an argument and display the product of its argument multiplied times 10."
   ]
  },
  {
   "cell_type": "code",
   "execution_count": 2,
   "id": "d1766038",
   "metadata": {},
   "outputs": [
    {
     "name": "stdout",
     "output_type": "stream",
     "text": [
      "100\n"
     ]
    }
   ],
   "source": [
    "# define the function\n",
    "def times_ten(number=10):\n",
    "    # set up the product times ten\n",
    "    product = number * 10\n",
    "    # add the print statement\n",
    "    print(product)\n",
    "# call the function\n",
    "times_ten()"
   ]
  },
  {
   "cell_type": "markdown",
   "id": "851c87db",
   "metadata": {},
   "source": [
    "## Chapter 5 AW #2\n",
    "\n",
    "#### Examine the following function header, then write a statement that calls the function, passing 12 as an argument. \n",
    "#### def show_value(quantity):"
   ]
  },
  {
   "cell_type": "code",
   "execution_count": null,
   "id": "cc179ad5",
   "metadata": {},
   "outputs": [],
   "source": [
    "# this will demonstrate passing 12 as an argument\n",
    "\n",
    "def main():\n",
    "    value = 12\n",
    "    show_value(value)\n",
    "# show_value function will accept agrument    \n",
    "def show_value(quantity):\n",
    "    print(quantity)"
   ]
  }
 ],
 "metadata": {
  "kernelspec": {
   "display_name": "Python 3 (ipykernel)",
   "language": "python",
   "name": "python3"
  },
  "language_info": {
   "codemirror_mode": {
    "name": "ipython",
    "version": 3
   },
   "file_extension": ".py",
   "mimetype": "text/x-python",
   "name": "python",
   "nbconvert_exporter": "python",
   "pygments_lexer": "ipython3",
   "version": "3.11.5"
  }
 },
 "nbformat": 4,
 "nbformat_minor": 5
}
