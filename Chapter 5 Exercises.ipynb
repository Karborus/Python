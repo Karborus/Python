{
 "cells": [
  {
   "cell_type": "markdown",
   "id": "dada4544",
   "metadata": {},
   "source": [
    "## Chapter 5 AW #1\n",
    "\n",
    "#### Write a function named times_ten. The function should accept an argument and display the product of its argument multiplied times 10."
   ]
  },
  {
   "cell_type": "code",
   "execution_count": 2,
   "id": "ccf1d9e2",
   "metadata": {},
   "outputs": [],
   "source": [
    "# define the function\n",
    "def times_ten(number):\n",
    "    # set up the product times ten\n",
    "    product = number * 10\n",
    "    # add the print statement\n",
    "    print(product)"
   ]
  },
  {
   "cell_type": "code",
   "execution_count": null,
   "id": "8e94f232",
   "metadata": {},
   "outputs": [],
   "source": []
  }
 ],
 "metadata": {
  "kernelspec": {
   "display_name": "Python 3 (ipykernel)",
   "language": "python",
   "name": "python3"
  },
  "language_info": {
   "codemirror_mode": {
    "name": "ipython",
    "version": 3
   },
   "file_extension": ".py",
   "mimetype": "text/x-python",
   "name": "python",
   "nbconvert_exporter": "python",
   "pygments_lexer": "ipython3",
   "version": "3.11.5"
  }
 },
 "nbformat": 4,
 "nbformat_minor": 5
}
