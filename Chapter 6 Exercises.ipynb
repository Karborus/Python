{
 "cells": [
  {
   "cell_type": "markdown",
   "id": "5d2bc79d",
   "metadata": {},
   "source": [
    "## AW Question 1\n",
    "#### Write a program that opens an output file with the filename my_name.txt, writes your name to the file, then closes the file. "
   ]
  },
  {
   "cell_type": "code",
   "execution_count": 6,
   "id": "2f4a8225",
   "metadata": {},
   "outputs": [],
   "source": [
    "# Open the file in write mode ('w')\n",
    "with open('my_name.txt', 'w') as file:\n",
    "    # Write your name to the file\n",
    "    file.write('Brandon Ryan')\n",
    "    \n",
    "# The file is automatically closed after the 'with' block"
   ]
  },
  {
   "cell_type": "markdown",
   "id": "8160cb08",
   "metadata": {},
   "source": [
    "## AW Question 2\n",
    "#### Write a program that opens the my_name.txt file that was created by the program in problem 1, reads your name from the file, displays the name on the screen, then closes the file."
   ]
  },
  {
   "cell_type": "code",
   "execution_count": 7,
   "id": "073dd0d6",
   "metadata": {},
   "outputs": [
    {
     "name": "stdout",
     "output_type": "stream",
     "text": [
      "Name Brandon Ryan\n"
     ]
    }
   ],
   "source": [
    "# Open the file in the read mode ('r')\n",
    "with open('my_name.txt', 'r') as file:\n",
    "    # Read the name from the file\n",
    "    name = file.read()\n",
    "    \n",
    "# Display the name on the screen\n",
    "print('Name', name)"
   ]
  },
  {
   "cell_type": "markdown",
   "id": "cd01f7a9",
   "metadata": {},
   "source": [
    "## PE Question 1\n",
    "#### Assume a file containing a series of integers is named numbers.txt and exists on the computer’s disk. Write a program that displays all of the numbers in the file."
   ]
  },
  {
   "cell_type": "code",
   "execution_count": 10,
   "id": "76c2373d",
   "metadata": {},
   "outputs": [],
   "source": [
    "# Open the file in the write mode ('w')\n",
    "with open('numbers.txt', 'w') as file:\n",
    "    # write a series of integers to the file\n",
    "    for number in range(15):\n",
    "        file.write(f'{number}\\n')\n",
    "\n",
    "# file has been created"
   ]
  },
  {
   "cell_type": "code",
   "execution_count": 11,
   "id": "c6869709",
   "metadata": {},
   "outputs": [
    {
     "name": "stdout",
     "output_type": "stream",
     "text": [
      "0\n",
      "1\n",
      "2\n",
      "3\n",
      "4\n",
      "5\n",
      "6\n",
      "7\n",
      "8\n",
      "9\n",
      "10\n",
      "11\n",
      "12\n",
      "13\n",
      "14\n"
     ]
    }
   ],
   "source": [
    "# Open the file\n",
    "myfile = open('numbers.txt', 'r')\n",
    "\n",
    "# Read and Display the file's content\n",
    "for line in myfile:\n",
    "    number = int(line)\n",
    "    print(number)\n",
    "\n",
    "# close the file\n",
    "myfile.close()"
   ]
  },
  {
   "cell_type": "markdown",
   "id": "e674eebe",
   "metadata": {},
   "source": [
    "## PE Question 6\n",
    "#### Assume a file containing a series of integers is named numbers.txt and exists on the computer’s disk. Write a program that calculates the average of all the numbers stored in the file.\n",
    "\n"
   ]
  },
  {
   "cell_type": "code",
   "execution_count": 12,
   "id": "3df59a6a",
   "metadata": {},
   "outputs": [
    {
     "name": "stdout",
     "output_type": "stream",
     "text": [
      "The average is:  7.0\n"
     ]
    }
   ],
   "source": [
    "# We need to open the file in read mode ('r')\n",
    "with open('numbers.txt', 'r') as file:\n",
    "    # We need to read all of the lines in the file\n",
    "    lines = file.readlines()\n",
    "    \n",
    "    # Set up variables to store the total and count of the numbers\n",
    "    total = 0\n",
    "    count = 0\n",
    "    \n",
    "    # iterate each line and convert the numbers to integers\n",
    "    for line in lines:\n",
    "        # we need to strip whitespaces before and after\n",
    "        line = line.strip()\n",
    "        # now have to convert the string to an integer and make a total\n",
    "        total += int(line)\n",
    "        # Now we increment the count of the numbers\n",
    "        count += 1\n",
    "        \n",
    "# Now we can calculate the average of the numbers\n",
    "average = total / count\n",
    "\n",
    "# Finally we display the average\n",
    "print('The average is: ', average)"
   ]
  },
  {
   "cell_type": "markdown",
   "id": "507344d0",
   "metadata": {},
   "source": [
    "## PE Question 9\n",
    "#### Modify the program that you wrote for Exercise 6 so it handles the following exceptions:\n",
    "#### It should handle any IOError exceptions that are raised when the file is opened and data is read from it.\n",
    "#### It should handle any ValueError exceptions that are raised when the items that are read from the file are converted to a number."
   ]
  },
  {
   "cell_type": "code",
   "execution_count": null,
   "id": "e9cd2e36",
   "metadata": {},
   "outputs": [],
   "source": [
    "# First we need to import the data from the previous question\n",
    "\n",
    "# Now we will set up the try/exception for the IOError\n",
    "\n",
    "try:\n",
    "    # We need to open the file in read mode ('r')\n",
    "    with open('numbers.txt', 'r') as file:\n",
    "        # We need to read all of the lines in the file\n",
    "        lines = file.readlines()\n",
    "    \n",
    "        # Set up variables to store the total and count of the numbers\n",
    "        total = 0\n",
    "        count = 0\n",
    "    \n",
    "        # iterate each line and convert the numbers to integers\n",
    "        for line in lines:\n",
    "            # we need to strip whitespaces before and after\n",
    "            line = line.strip()\n",
    "            # now have to convert the string to an integer and make a total\n",
    "            total += int(line)\n",
    "            # Now we increment the count of the numbers\n",
    "            count += 1\n",
    "        \n",
    "        # Now we can calculate the average of the numbers\n",
    "    \n",
    "        average = total / count\n",
    "\n",
    "        # Finally we display the average\n",
    "        print('The average is: ', average)\n",
    "\n",
    "except IOError:\n",
    "    # this handles the IOError exceoption\n",
    "    print('Error: Unable to read file')"
   ]
  }
 ],
 "metadata": {
  "kernelspec": {
   "display_name": "Python 3 (ipykernel)",
   "language": "python",
   "name": "python3"
  },
  "language_info": {
   "codemirror_mode": {
    "name": "ipython",
    "version": 3
   },
   "file_extension": ".py",
   "mimetype": "text/x-python",
   "name": "python",
   "nbconvert_exporter": "python",
   "pygments_lexer": "ipython3",
   "version": "3.11.5"
  }
 },
 "nbformat": 4,
 "nbformat_minor": 5
}
