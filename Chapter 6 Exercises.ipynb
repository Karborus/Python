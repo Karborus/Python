{
 "cells": [
  {
   "cell_type": "markdown",
   "id": "5d2bc79d",
   "metadata": {},
   "source": [
    "## AW Question 1\n",
    "#### Write a program that opens an output file with the filename my_name.txt, writes your name to the file, then closes the file. "
   ]
  },
  {
   "cell_type": "code",
   "execution_count": 6,
   "id": "2f4a8225",
   "metadata": {},
   "outputs": [],
   "source": [
    "# Open the file in write mode ('w')\n",
    "with open('my_name.txt', 'w') as file:\n",
    "    # Write your name to the file\n",
    "    file.write('Brandon Ryan')\n",
    "    \n",
    "# The file is automatically closed after the 'with' block"
   ]
  },
  {
   "cell_type": "markdown",
   "id": "798a59e7",
   "metadata": {},
   "source": [
    "## AW Question 2\n",
    "#### Write a program that opens the my_name.txt file that was created by the program in problem 1, reads your name from the file, displays the name on the screen, then closes the file."
   ]
  },
  {
   "cell_type": "code",
   "execution_count": 7,
   "id": "9223ddb9",
   "metadata": {},
   "outputs": [
    {
     "name": "stdout",
     "output_type": "stream",
     "text": [
      "Name Brandon Ryan\n"
     ]
    }
   ],
   "source": [
    "# Open the file in the read mode ('r')\n",
    "with open('my_name.txt', 'r') as file:\n",
    "    # Read the name from the file\n",
    "    name = file.read()\n",
    "    \n",
    "# Display the name on the screen\n",
    "print('Name', name)"
   ]
  },
  {
   "cell_type": "markdown",
   "id": "9f7cf583",
   "metadata": {},
   "source": [
    "## PE Question 1\n",
    "#### Assume a file containing a series of integers is named numbers.txt and exists on the computer’s disk. Write a program that displays all of the numbers in the file."
   ]
  },
  {
   "cell_type": "code",
   "execution_count": 10,
   "id": "54132362",
   "metadata": {},
   "outputs": [],
   "source": [
    "# Open the file in the write mode ('w')\n",
    "with open('numbers.txt', 'w') as file:\n",
    "    # write a series of integers to the file\n",
    "    for number in range(15):\n",
    "        file.write(f'{number}\\n')\n",
    "\n",
    "# file has been created"
   ]
  },
  {
   "cell_type": "code",
   "execution_count": 11,
   "id": "c7f9afd7",
   "metadata": {},
   "outputs": [
    {
     "name": "stdout",
     "output_type": "stream",
     "text": [
      "0\n",
      "1\n",
      "2\n",
      "3\n",
      "4\n",
      "5\n",
      "6\n",
      "7\n",
      "8\n",
      "9\n",
      "10\n",
      "11\n",
      "12\n",
      "13\n",
      "14\n"
     ]
    }
   ],
   "source": [
    "# Open the file\n",
    "myfile = open('numbers.txt', 'r')\n",
    "\n",
    "# Read and Display the file's content\n",
    "for line in myfile:\n",
    "    number = int(line)\n",
    "    print(number)\n",
    "\n",
    "# close the file\n",
    "myfile.close()"
   ]
  },
  {
   "cell_type": "code",
   "execution_count": null,
   "id": "e1d50a41",
   "metadata": {},
   "outputs": [],
   "source": []
  }
 ],
 "metadata": {
  "kernelspec": {
   "display_name": "Python 3 (ipykernel)",
   "language": "python",
   "name": "python3"
  },
  "language_info": {
   "codemirror_mode": {
    "name": "ipython",
    "version": 3
   },
   "file_extension": ".py",
   "mimetype": "text/x-python",
   "name": "python",
   "nbconvert_exporter": "python",
   "pygments_lexer": "ipython3",
   "version": "3.11.5"
  }
 },
 "nbformat": 4,
 "nbformat_minor": 5
}
