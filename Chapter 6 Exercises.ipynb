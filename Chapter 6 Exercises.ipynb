{
 "cells": [
  {
   "cell_type": "markdown",
   "id": "5d2bc79d",
   "metadata": {},
   "source": [
    "## AW Question 1\n",
    "#### Write a program that opens an output file with the filename my_name.txt, writes your name to the file, then closes the file. "
   ]
  },
  {
   "cell_type": "code",
   "execution_count": 6,
   "id": "2f4a8225",
   "metadata": {},
   "outputs": [],
   "source": [
    "# Open the file in write mode ('w')\n",
    "with open('my_name.txt', 'w') as file:\n",
    "    # Write your name to the file\n",
    "    file.write('Brandon Ryan')\n",
    "    \n",
    "# The file is automatically closed after the 'with' block"
   ]
  },
  {
   "cell_type": "markdown",
   "id": "89ff40e7",
   "metadata": {},
   "source": [
    "## AW Question 2\n",
    "#### Write a program that opens the my_name.txt file that was created by the program in problem 1, reads your name from the file, displays the name on the screen, then closes the file."
   ]
  },
  {
   "cell_type": "code",
   "execution_count": 7,
   "id": "a17eeaad",
   "metadata": {},
   "outputs": [
    {
     "name": "stdout",
     "output_type": "stream",
     "text": [
      "Name Brandon Ryan\n"
     ]
    }
   ],
   "source": [
    "# Open the file in the read mode ('r')\n",
    "with open('my_name.txt', 'r') as file:\n",
    "    # Read the name from the file\n",
    "    name = file.read()\n",
    "    \n",
    "# Display the name on the screen\n",
    "print('Name', name)"
   ]
  },
  {
   "cell_type": "code",
   "execution_count": null,
   "id": "b9dee8d1",
   "metadata": {},
   "outputs": [],
   "source": []
  }
 ],
 "metadata": {
  "kernelspec": {
   "display_name": "Python 3 (ipykernel)",
   "language": "python",
   "name": "python3"
  },
  "language_info": {
   "codemirror_mode": {
    "name": "ipython",
    "version": 3
   },
   "file_extension": ".py",
   "mimetype": "text/x-python",
   "name": "python",
   "nbconvert_exporter": "python",
   "pygments_lexer": "ipython3",
   "version": "3.11.5"
  }
 },
 "nbformat": 4,
 "nbformat_minor": 5
}
