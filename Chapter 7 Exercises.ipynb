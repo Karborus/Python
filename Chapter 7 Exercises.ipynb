{
 "cells": [
  {
   "cell_type": "markdown",
   "id": "999f6000",
   "metadata": {},
   "source": [
    "## AW Question #1\n",
    "#### Write a statement that creates a list with the following strings:\n",
    "#### 'Einstein', 'Newton', 'Copernicus', and 'Kepler'."
   ]
  },
  {
   "cell_type": "code",
   "execution_count": null,
   "id": "44827a6c",
   "metadata": {},
   "outputs": [],
   "source": [
    "scientists = ['Einstein', 'Newton', 'Copernicus', 'Kepler']"
   ]
  }
 ],
 "metadata": {
  "kernelspec": {
   "display_name": "Python 3 (ipykernel)",
   "language": "python",
   "name": "python3"
  },
  "language_info": {
   "codemirror_mode": {
    "name": "ipython",
    "version": 3
   },
   "file_extension": ".py",
   "mimetype": "text/x-python",
   "name": "python",
   "nbconvert_exporter": "python",
   "pygments_lexer": "ipython3",
   "version": "3.11.5"
  }
 },
 "nbformat": 4,
 "nbformat_minor": 5
}
