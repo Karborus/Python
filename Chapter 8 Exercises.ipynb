{
 "cells": [
  {
   "cell_type": "markdown",
   "id": "8c6f268b",
   "metadata": {},
   "source": [
    "## AW Question #1\n",
    "#### Assume Choice references a string. The following if statement determines whether is equal to ‘Y’ or ‘y’:\n",
    "#### if choice == 'Y' or choice == 'y'\n",
    "#### Rewrite this statement so it only makes one comparison, and does not use the or operator."
   ]
  },
  {
   "cell_type": "code",
   "execution_count": 1,
   "id": "f3f38b2c",
   "metadata": {},
   "outputs": [
    {
     "ename": "SyntaxError",
     "evalue": "expected ':' (4289986904.py, line 2)",
     "output_type": "error",
     "traceback": [
      "\u001b[1;36m  Cell \u001b[1;32mIn[1], line 2\u001b[1;36m\u001b[0m\n\u001b[1;33m    if choice.lower() == 'y'\u001b[0m\n\u001b[1;37m                            ^\u001b[0m\n\u001b[1;31mSyntaxError\u001b[0m\u001b[1;31m:\u001b[0m expected ':'\n"
     ]
    }
   ],
   "source": [
    "# this can be easily done with the upper or lower methods\n",
    "if choice.lower() == 'y'"
   ]
  },
  {
   "cell_type": "code",
   "execution_count": 2,
   "id": "2ae45180",
   "metadata": {},
   "outputs": [
    {
     "ename": "SyntaxError",
     "evalue": "incomplete input (1621583878.py, line 2)",
     "output_type": "error",
     "traceback": [
      "\u001b[1;36m  Cell \u001b[1;32mIn[2], line 2\u001b[1;36m\u001b[0m\n\u001b[1;33m    if choice.lower() == 'y':\u001b[0m\n\u001b[1;37m                             ^\u001b[0m\n\u001b[1;31mSyntaxError\u001b[0m\u001b[1;31m:\u001b[0m incomplete input\n"
     ]
    }
   ],
   "source": [
    "# I forgot the ever elusive colon\n",
    "if choice.lower() == 'y':"
   ]
  },
  {
   "cell_type": "markdown",
   "id": "cbb64297",
   "metadata": {},
   "source": [
    "## AW Question #5\n",
    "#### Write a function that accepts a string as an argument and returns true if the argument ends with the substring '.com'. Otherwise, the function should return false."
   ]
  },
  {
   "cell_type": "code",
   "execution_count": 4,
   "id": "ec9200b8",
   "metadata": {},
   "outputs": [],
   "source": [
    "# we will set up a defined function\n",
    "def end_with_com(test):\n",
    "    return test.endswith('.com')"
   ]
  },
  {
   "cell_type": "code",
   "execution_count": 5,
   "id": "15acaa8b",
   "metadata": {},
   "outputs": [
    {
     "name": "stdout",
     "output_type": "stream",
     "text": [
      "True\n"
     ]
    }
   ],
   "source": [
    "# test function with print function\n",
    "print(end_with_com('test.com'))"
   ]
  },
  {
   "cell_type": "code",
   "execution_count": 6,
   "id": "b938707d",
   "metadata": {},
   "outputs": [
    {
     "name": "stdout",
     "output_type": "stream",
     "text": [
      "False\n"
     ]
    }
   ],
   "source": [
    "print(end_with_com('test.gov'))"
   ]
  },
  {
   "cell_type": "markdown",
   "id": "e02698ff",
   "metadata": {},
   "source": [
    "## PE Question #1\n",
    "#### Write a program that gets a string containing a person’s first, middle, and last names, and displays their first, middle, and last initials. For example, if the user enters John William Smith, the program should display J. W. S."
   ]
  },
  {
   "cell_type": "code",
   "execution_count": 14,
   "id": "7387736d",
   "metadata": {},
   "outputs": [],
   "source": [
    "# the get initials function will get a first name,\n",
    "# middle name, and last name as arguments.\n",
    "\n",
    "def get_initials(first, middle, last):\n",
    "    # these will get the first letter of each name\n",
    "    set1 = first[0 : 1]\n",
    "    set2 = middle[0 : 1]\n",
    "    set3 = last[0 : 1]\n",
    "    \n",
    "    initials = set1 + set2 + set3\n",
    "    \n",
    "    return initials"
   ]
  },
  {
   "cell_type": "code",
   "execution_count": 15,
   "id": "1c50e0e4",
   "metadata": {},
   "outputs": [
    {
     "name": "stdout",
     "output_type": "stream",
     "text": [
      "Enter your first name: Brandon\n",
      "Enter your middle name: Joseph\n",
      "Enter your last name: Ryan\n",
      "Your intitials are:\n",
      "BJR\n"
     ]
    }
   ],
   "source": [
    "def main():\n",
    "    # get the first, middle, and last names\n",
    "    first = input('Enter your first name: ')\n",
    "    middle = input('Enter your middle name: ')\n",
    "    last = input('Enter your last name: ')\n",
    "    \n",
    "    # display your initials\n",
    "    print('Your intitials are:')\n",
    "    print(get_initials(first, middle, last))\n",
    "    \n",
    "# call for the function\n",
    "if __name__ == '__main__':\n",
    "    main()"
   ]
  },
  {
   "cell_type": "markdown",
   "id": "9cb252a6",
   "metadata": {},
   "source": [
    "## PE Question #11\n",
    "#### Write a program that accepts as input a sentence in which all of the words are run together, but the first character of each word is uppercase. Convert the sentence to a string in which the words are separated by spaces, and only the first word starts with an uppercase letter.\n"
   ]
  },
  {
   "cell_type": "code",
   "execution_count": 19,
   "id": "aa2cc103",
   "metadata": {},
   "outputs": [
    {
     "name": "stdout",
     "output_type": "stream",
     "text": [
      "Enter a sentence without spaces and each word starting with a capital letter: IloveMyWife\n"
     ]
    },
    {
     "ename": "TypeError",
     "evalue": "bad operand type for unary +: 'str'",
     "output_type": "error",
     "traceback": [
      "\u001b[1;31m---------------------------------------------------------------------------\u001b[0m",
      "\u001b[1;31mTypeError\u001b[0m                                 Traceback (most recent call last)",
      "Cell \u001b[1;32mIn[19], line 7\u001b[0m\n\u001b[0;32m      5\u001b[0m \u001b[38;5;28;01mif\u001b[39;00m ch\u001b[38;5;241m.\u001b[39misupper() \u001b[38;5;129;01mand\u001b[39;00m i \u001b[38;5;241m>\u001b[39m \u001b[38;5;241m0\u001b[39m:\n\u001b[0;32m      6\u001b[0m     sentence \u001b[38;5;241m+\u001b[39m\u001b[38;5;241m=\u001b[39m\u001b[38;5;124m\"\u001b[39m\u001b[38;5;124m \u001b[39m\u001b[38;5;124m\"\u001b[39m\n\u001b[1;32m----> 7\u001b[0m     sentence \u001b[38;5;241m=\u001b[39m\u001b[38;5;241m+\u001b[39m ch\u001b[38;5;241m.\u001b[39mlower()\n\u001b[0;32m      8\u001b[0m \u001b[38;5;28;01melse\u001b[39;00m:\n\u001b[0;32m      9\u001b[0m     sentence \u001b[38;5;241m+\u001b[39m\u001b[38;5;241m=\u001b[39m ch\n",
      "\u001b[1;31mTypeError\u001b[0m: bad operand type for unary +: 'str'"
     ]
    }
   ],
   "source": [
    "# input statement to get sentence\n",
    "my_string = input('Enter a sentence without spaces and each word starting with a capital letter: ')\n",
    "\n",
    "i = 0\n",
    "sentence = \"\"\n",
    "for ch in my_string:\n",
    "    if ch.isupper() and i > 0: # this makes the first letter capitalized\n",
    "        sentence +=\" \" # makes a space before each capital letter\n",
    "        sentence =+ ch.lower() # remaining letters are lower cased\n",
    "    else:\n",
    "        sentence += ch\n",
    "    i += 1\n",
    "\n",
    "print(sentence) # prints the sentence"
   ]
  },
  {
   "cell_type": "code",
   "execution_count": 20,
   "id": "0057a5c7",
   "metadata": {},
   "outputs": [
    {
     "name": "stdout",
     "output_type": "stream",
     "text": [
      "Enter a sentence without spaces and each word starting with a capital letter: ILoveMyWife\n",
      "I love my wife\n"
     ]
    }
   ],
   "source": [
    "# input statement to get sentence\n",
    "my_string = input('Enter a sentence without spaces and each word starting with a capital letter: ')\n",
    "\n",
    "i = 0\n",
    "sentence = \"\"\n",
    "for ch in my_string:\n",
    "    if ch.isupper() and i > 0: # this makes the first letter capitalized\n",
    "        sentence +=\" \" # makes a space before each capital letter\n",
    "        # line below as bad operand =+ instead of +=\n",
    "        sentence += ch.lower() # remaining letters are lower cased\n",
    "    else:\n",
    "        sentence += ch\n",
    "    i += 1\n",
    "\n",
    "print(sentence) # prints the sentence"
   ]
  },
  {
   "cell_type": "markdown",
   "id": "a730c8a5",
   "metadata": {},
   "source": [
    "## PE Question #3\n",
    "#### Write a program that reads a string from the user containing a date in the form mm/dd/yyyy. It should print the date in the format March 12, 2018.\n"
   ]
  },
  {
   "cell_type": "code",
   "execution_count": 21,
   "id": "27e5591d",
   "metadata": {},
   "outputs": [
    {
     "name": "stdout",
     "output_type": "stream",
     "text": [
      "Please enter a date(mm/dd/yyyy): 02/18/1984\n",
      "February 18, 1984\n"
     ]
    }
   ],
   "source": [
    "# input function asking for a date\n",
    "date = input('Please enter a date(mm/dd/yyyy): ')\n",
    "dateinput = date.split('/') #splits the date info using the /\n",
    "\n",
    "month = int(dateinput[0]) # uses inputed month\n",
    "day = int(dateinput[1]) # uses inputed day\n",
    "year = int(dateinput[2]) # uses the year inputed\n",
    "\n",
    "# set up if-elif statement to change month number into month name\n",
    "if month == 1:\n",
    "    month = \"January\"\n",
    "elif month == 2:\n",
    "    month = \"February\"\n",
    "elif month == 3:\n",
    "    month = \"March\"\n",
    "elif month == 4:\n",
    "    month = \"April\"\n",
    "elif month == 5:\n",
    "    month = \"May\"\n",
    "elif month == 6:\n",
    "    month = \"June\"\n",
    "elif month == 7:\n",
    "    month = \"July\"\n",
    "elif month == 8:\n",
    "    month = \"August\"\n",
    "elif month == 9:\n",
    "    month = \"September\"\n",
    "elif month == 10:\n",
    "    month = \"October\"\n",
    "elif month == 11:\n",
    "    month = \"November\"\n",
    "elif month == 12:\n",
    "    month = \"December\"\n",
    "    \n",
    "moddate = month + \" \" + str(day) + \", \" + str(year) # sets up info to be read as a string\n",
    "\n",
    "print(moddate) # prints the modified date\n",
    "    "
   ]
  },
  {
   "cell_type": "markdown",
   "id": "36e49f76",
   "metadata": {},
   "source": [
    "## PE Question #2\n",
    "#### Write a program that asks the user to enter a series of single-digit numbers with nothing separating them. The program should display the sum of all the single digit numbers in the string. For example, if the user enters 2514, the method should return 12, which is the sum of 2, 5, 1, and 4."
   ]
  },
  {
   "cell_type": "code",
   "execution_count": null,
   "id": "fd36ec54",
   "metadata": {},
   "outputs": [],
   "source": [
    "def digit_sum(n):\n",
    "    total = 0 # starts your total at zero\n",
    "    for char in n:\n",
    "        digit = int(char) # converts character into integer\n",
    "        total += digit # adds numbers together\n",
    "    return total\n",
    "\n",
    "# input string gathered from user\n",
    "input_data = input('Enter a series of numbers: ')\n",
    "\n",
    "# this calcuates the sum of the entered numbers\n",
    "sum = digit_sum(input_data)\n",
    "print('This is the sum of the numbers you entered: ', sum)"
   ]
  }
 ],
 "metadata": {
  "kernelspec": {
   "display_name": "Python 3 (ipykernel)",
   "language": "python",
   "name": "python3"
  },
  "language_info": {
   "codemirror_mode": {
    "name": "ipython",
    "version": 3
   },
   "file_extension": ".py",
   "mimetype": "text/x-python",
   "name": "python",
   "nbconvert_exporter": "python",
   "pygments_lexer": "ipython3",
   "version": "3.11.5"
  }
 },
 "nbformat": 4,
 "nbformat_minor": 5
}
