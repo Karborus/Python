{
 "cells": [
  {
   "cell_type": "markdown",
   "id": "8c6f268b",
   "metadata": {},
   "source": [
    "## AW Question #1\n",
    "#### Assume Choice references a string. The following if statement determines whether is equal to ‘Y’ or ‘y’:\n",
    "#### if choice == 'Y' or choice == 'y'\n",
    "#### Rewrite this statement so it only makes one comparison, and does not use the or operator."
   ]
  },
  {
   "cell_type": "code",
   "execution_count": 1,
   "id": "f3f38b2c",
   "metadata": {},
   "outputs": [
    {
     "ename": "SyntaxError",
     "evalue": "expected ':' (4289986904.py, line 2)",
     "output_type": "error",
     "traceback": [
      "\u001b[1;36m  Cell \u001b[1;32mIn[1], line 2\u001b[1;36m\u001b[0m\n\u001b[1;33m    if choice.lower() == 'y'\u001b[0m\n\u001b[1;37m                            ^\u001b[0m\n\u001b[1;31mSyntaxError\u001b[0m\u001b[1;31m:\u001b[0m expected ':'\n"
     ]
    }
   ],
   "source": [
    "# this can be easily done with the upper or lower methods\n",
    "if choice.lower() == 'y'"
   ]
  },
  {
   "cell_type": "code",
   "execution_count": 2,
   "id": "2ae45180",
   "metadata": {},
   "outputs": [
    {
     "ename": "SyntaxError",
     "evalue": "incomplete input (1621583878.py, line 2)",
     "output_type": "error",
     "traceback": [
      "\u001b[1;36m  Cell \u001b[1;32mIn[2], line 2\u001b[1;36m\u001b[0m\n\u001b[1;33m    if choice.lower() == 'y':\u001b[0m\n\u001b[1;37m                             ^\u001b[0m\n\u001b[1;31mSyntaxError\u001b[0m\u001b[1;31m:\u001b[0m incomplete input\n"
     ]
    }
   ],
   "source": [
    "# I forgot the ever elusive colon\n",
    "if choice.lower() == 'y':"
   ]
  },
  {
   "cell_type": "markdown",
   "id": "cbb64297",
   "metadata": {},
   "source": [
    "## AW Question #5\n",
    "#### Write a function that accepts a string as an argument and returns true if the argument ends with the substring '.com'. Otherwise, the function should return false."
   ]
  },
  {
   "cell_type": "code",
   "execution_count": 4,
   "id": "ec9200b8",
   "metadata": {},
   "outputs": [],
   "source": [
    "# we will set up a defined function\n",
    "def end_with_com(test):\n",
    "    return test.endswith('.com')"
   ]
  },
  {
   "cell_type": "code",
   "execution_count": 5,
   "id": "15acaa8b",
   "metadata": {},
   "outputs": [
    {
     "name": "stdout",
     "output_type": "stream",
     "text": [
      "True\n"
     ]
    }
   ],
   "source": [
    "# test function with print function\n",
    "print(end_with_com('test.com'))"
   ]
  },
  {
   "cell_type": "code",
   "execution_count": 6,
   "id": "b938707d",
   "metadata": {},
   "outputs": [
    {
     "name": "stdout",
     "output_type": "stream",
     "text": [
      "False\n"
     ]
    }
   ],
   "source": [
    "print(end_with_com('test.gov'))"
   ]
  },
  {
   "cell_type": "markdown",
   "id": "e02698ff",
   "metadata": {},
   "source": [
    "## PE Question #1\n",
    "#### Write a program that gets a string containing a person’s first, middle, and last names, and displays their first, middle, and last initials. For example, if the user enters John William Smith, the program should display J. W. S."
   ]
  },
  {
   "cell_type": "code",
   "execution_count": 7,
   "id": "7387736d",
   "metadata": {},
   "outputs": [],
   "source": [
    "# the get initials function will get a first name,\n",
    "# middle name, and last name as arguments.\n",
    "\n",
    "def get_initials(first, middle, last):\n",
    "    # these will get the first letter of each name\n",
    "    set1 = first[0 : 1]\n",
    "    set2 = middle[0 : 1]\n",
    "    set3 = last[0 : 1]\n",
    "    \n",
    "    initials = set1 + set2 + set3"
   ]
  },
  {
   "cell_type": "code",
   "execution_count": null,
   "id": "1c50e0e4",
   "metadata": {},
   "outputs": [],
   "source": [
    "def main():\n",
    "    # get the first, middle, and last names\n",
    "    first = input('Enter your first name: ')\n",
    "    middle = input('Enter your middle name: ')\n",
    "    last = input('Enter your last name: ')\n",
    "    \n",
    "    # display your initials\n",
    "    print('Your intitials are:')\n",
    "    print(get_initials(first, middle, last))\n",
    "    \n",
    "# call for the function\n",
    "if __name__ == '__main__':\n",
    "    main()"
   ]
  }
 ],
 "metadata": {
  "kernelspec": {
   "display_name": "Python 3 (ipykernel)",
   "language": "python",
   "name": "python3"
  },
  "language_info": {
   "codemirror_mode": {
    "name": "ipython",
    "version": 3
   },
   "file_extension": ".py",
   "mimetype": "text/x-python",
   "name": "python",
   "nbconvert_exporter": "python",
   "pygments_lexer": "ipython3",
   "version": "3.11.5"
  }
 },
 "nbformat": 4,
 "nbformat_minor": 5
}
